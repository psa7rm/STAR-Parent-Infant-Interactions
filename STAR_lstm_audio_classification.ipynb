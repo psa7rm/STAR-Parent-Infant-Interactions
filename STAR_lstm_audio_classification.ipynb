{
  "cells": [
    {
      "cell_type": "markdown",
      "id": "f7d3be66-34c5-432d-aced-51d4a3c673eb",
      "metadata": {
        "id": "f7d3be66-34c5-432d-aced-51d4a3c673eb"
      },
      "source": [
        "## Imports"
      ]
    },
    {
      "cell_type": "code",
      "source": [
        "from google.colab import drive\n",
        "drive.mount('/content/drive', force_remount=True)"
      ],
      "metadata": {
        "colab": {
          "base_uri": "https://localhost:8080/"
        },
        "id": "rEtwVKvIRqTI",
        "outputId": "116a9a02-9490-42b3-d628-a39f341be475"
      },
      "id": "rEtwVKvIRqTI",
      "execution_count": null,
      "outputs": [
        {
          "output_type": "stream",
          "name": "stdout",
          "text": [
            "Mounted at /content/drive\n"
          ]
        }
      ]
    },
    {
      "cell_type": "code",
      "execution_count": null,
      "id": "a2c19682-0e5f-443d-9dee-7fbbb23be32a",
      "metadata": {
        "id": "a2c19682-0e5f-443d-9dee-7fbbb23be32a"
      },
      "outputs": [],
      "source": [
        "# %pip install moviepy"
      ]
    },
    {
      "cell_type": "code",
      "execution_count": null,
      "id": "54c9214e-7335-4e0e-b5b7-a0672e244479",
      "metadata": {
        "id": "54c9214e-7335-4e0e-b5b7-a0672e244479"
      },
      "outputs": [],
      "source": [
        "# %pip install tensorflow_hub"
      ]
    },
    {
      "cell_type": "code",
      "execution_count": null,
      "id": "a224e930-ff36-4df0-aa66-1f8beb75a90d",
      "metadata": {
        "id": "a224e930-ff36-4df0-aa66-1f8beb75a90d"
      },
      "outputs": [],
      "source": [
        "import librosa\n",
        "import glob\n",
        "import librosa.display\n",
        "import matplotlib.pyplot as plt\n",
        "from moviepy.editor import *\n",
        "import io\n",
        "# import tensorflow\n",
        "# import concurrent.futures\n",
        "# import tensorflow as tf\n",
        "# import tensorflow_io as tfio\n",
        "import numpy as np\n",
        "import pandas as pd\n",
        "import os\n",
        "from sklearn.model_selection import train_test_split\n",
        "from sklearn.preprocessing import LabelEncoder\n",
        "# import tensorflow_hub as hub\n",
        "# from tensorflow.keras import layers, models\n",
        "# import torch\n",
        "# print(torch.__version__)\n",
        "# import torch.nn.functional as F\n",
        "# import torch.nn as nn\n",
        "# import torch.optim as optim\n",
        "# from torch.utils.data import TensorDataset, DataLoader, random_split\n",
        "from sklearn.datasets import make_moons\n",
        "from sklearn.model_selection import train_test_split\n",
        "from functools import partial\n",
        "from datetime import datetime\n",
        "from datetime import timedelta\n",
        "import shutil"
      ]
    },
    {
      "cell_type": "code",
      "execution_count": null,
      "id": "c129c089-1af4-48f6-a8da-a5a3b3ee5093",
      "metadata": {
        "colab": {
          "base_uri": "https://localhost:8080/",
          "height": 35
        },
        "id": "c129c089-1af4-48f6-a8da-a5a3b3ee5093",
        "outputId": "705d2ae3-c319-47df-c9a1-4acd1d351c84"
      },
      "outputs": [
        {
          "output_type": "execute_result",
          "data": {
            "text/plain": [
              "'/content'"
            ],
            "application/vnd.google.colaboratory.intrinsic+json": {
              "type": "string"
            }
          },
          "metadata": {},
          "execution_count": 5
        }
      ],
      "source": [
        "pwd"
      ]
    },
    {
      "cell_type": "code",
      "execution_count": null,
      "id": "e23a5fe2-c49d-4637-b6b5-27c207330c08",
      "metadata": {
        "colab": {
          "base_uri": "https://localhost:8080/"
        },
        "id": "e23a5fe2-c49d-4637-b6b5-27c207330c08",
        "outputId": "676aceed-f047-4bc4-8541-8dbbf623ffe2"
      },
      "outputs": [
        {
          "output_type": "stream",
          "name": "stdout",
          "text": [
            "/content/drive/MyDrive/Capstone/train_segments\n"
          ]
        }
      ],
      "source": [
        "cd '/content/drive/MyDrive/Capstone/train_segments'"
      ]
    },
    {
      "cell_type": "code",
      "source": [
        "directory = \"/content/drive/MyDrive/Capstone/train_segments\"\n",
        "\n",
        "# Function to convert string time to timedelta\n",
        "def convert_to_timedelta(time_str):\n",
        "    parts = time_str.split(':')\n",
        "    minutes = int(parts[0])\n",
        "    seconds = int(parts[1]) if len(parts) > 1 else 0\n",
        "    return timedelta(minutes=minutes, seconds=seconds)\n",
        "\n",
        "# Function to generate intervals from Excel file\n",
        "def gen_excel_data(file):\n",
        "    df = pd.read_excel(file, usecols=[0, 1, 2], engine='openpyxl')\n",
        "    df_clean = df.dropna()\n",
        "    data_as_list = df_clean.values.tolist()\n",
        "\n",
        "    new_intervals = []\n",
        "\n",
        "    for row in data_as_list:\n",
        "        current_time = convert_to_timedelta(row[0])\n",
        "        end_time = convert_to_timedelta(row[1])\n",
        "        classification = row[2]\n",
        "        while current_time < end_time:\n",
        "            next_time = min(current_time + pd.Timedelta(seconds=3), end_time)\n",
        "            new_intervals.append([current_time, next_time, classification])\n",
        "            current_time = next_time\n",
        "\n",
        "    return new_intervals"
      ],
      "metadata": {
        "id": "uQndpTdqLeoA"
      },
      "id": "uQndpTdqLeoA",
      "execution_count": null,
      "outputs": []
    },
    {
      "cell_type": "code",
      "source": [
        "import pandas as pd\n",
        "from datetime import timedelta\n",
        "\n",
        "def process_data(excel_file_path, mp3_file_path, save_path_csv):\n",
        "    # Load metadata from the Excel file\n",
        "    metadata = pd.read_excel(excel_file_path, engine='openpyxl')\n",
        "\n",
        "    # Load the entire audio file\n",
        "    audio, sr = librosa.load(mp3_file_path, sr=16000)\n",
        "    audio_duration = librosa.get_duration(y=audio, sr=sr)\n",
        "\n",
        "    # Iterate over each interval in the metadata\n",
        "    for i, row in metadata.iterrows():\n",
        "        start_time_str = row['Start']\n",
        "        end_time_str = row['Stop']\n",
        "        classification = row['Code']  # Retrieve classification from the 'code' column\n",
        "\n",
        "        # Convert start and end times to timedelta objects\n",
        "        start_time = timedelta(minutes=int(start_time_str.split(':')[0]), seconds=int(start_time_str.split(':')[1]))\n",
        "        end_time = timedelta(minutes=int(end_time_str.split(':')[0]), seconds=int(end_time_str.split(':')[1]))\n",
        "\n",
        "        # Check if end time exceeds audio duration, adjust if necessary\n",
        "        if end_time.total_seconds() > audio_duration:\n",
        "            end_time = timedelta(seconds=audio_duration)\n",
        "\n",
        "        # Convert start and end times to samples\n",
        "        start_sample = int(start_time.total_seconds() * sr)\n",
        "        end_sample = int(end_time.total_seconds() * sr)\n",
        "\n",
        "        # Extract the interval\n",
        "        audio_interval = audio[start_sample:end_sample]\n",
        "\n",
        "        # Compute the spectrogram\n",
        "        D = librosa.stft(audio_interval)\n",
        "        D_magnitude = np.abs(D)\n",
        "        D_db = librosa.amplitude_to_db(D_magnitude, ref=np.max)\n",
        "\n",
        "        # Save the spectrogram to a CSV file\n",
        "        spectrogram_csv_file = f\"{os.path.splitext(os.path.basename(mp3_file_path))[0]}_segment_{i}_{classification}.csv\"\n",
        "        spectrogram_csv_path = os.path.join(save_path_csv, spectrogram_csv_file)\n",
        "        np.savetxt(spectrogram_csv_path, D_db, delimiter=',')\n",
        "\n",
        "        # Print processing message\n",
        "        print(f\"Processed segment {i}: {start_time_str} to {end_time_str}, classification: {classification}, saved as {spectrogram_csv_file}\")\n",
        "\n",
        "path_to_excel_files = \"/content/drive/My Drive/Capstone/train_segments/\"\n",
        "path_to_mp3_files = \"/content/drive/MyDrive/Capstone/train_segments\""
      ],
      "metadata": {
        "id": "OQocaCpeLeYZ"
      },
      "id": "OQocaCpeLeYZ",
      "execution_count": null,
      "outputs": []
    },
    {
      "cell_type": "code",
      "source": [
        "ls"
      ],
      "metadata": {
        "id": "gMuVpffjMDIF",
        "outputId": "126a5c04-a0c7-460e-d67d-7b8c23bb5b12",
        "colab": {
          "base_uri": "https://localhost:8080/"
        }
      },
      "id": "gMuVpffjMDIF",
      "execution_count": null,
      "outputs": [
        {
          "output_type": "stream",
          "name": "stdout",
          "text": [
            "'301 T1 part 2 child audio.mp3'   '554 T1 part 2 child audio.mp3'    metadata.csv   \u001b[0m\u001b[01;34msegments\u001b[0m/\n",
            "'301 T1 part 2 child audio.xlsx'  '554 T1 part 2 child audio.xlsx'   my_model.h5\n"
          ]
        }
      ]
    },
    {
      "cell_type": "code",
      "source": [
        "# Generate intervals from Excel files\n",
        "excel_files = glob.glob(path_to_excel_files + \"*.xlsx\")\n",
        "for excel_file in excel_files:\n",
        "    intervals = gen_excel_data(excel_file)\n",
        "    mp3_file_name = os.path.splitext(os.path.basename(excel_file))[0] + \".mp3\"\n",
        "    mp3_file_path = os.path.join(path_to_mp3_files, mp3_file_name)\n",
        "    save_path_csv = \"/content/drive/MyDrive/Capstone/train_segments/segments\"\n",
        "    process_data(excel_file, mp3_file_path, save_path_csv)"
      ],
      "metadata": {
        "colab": {
          "base_uri": "https://localhost:8080/",
          "height": 365
        },
        "id": "q79cbZNYLeU_",
        "outputId": "8f3032f8-529c-4d39-c002-9c0fad066094"
      },
      "id": "q79cbZNYLeU_",
      "execution_count": null,
      "outputs": [
        {
          "output_type": "error",
          "ename": "AttributeError",
          "evalue": "'datetime.time' object has no attribute 'split'",
          "traceback": [
            "\u001b[0;31m---------------------------------------------------------------------------\u001b[0m",
            "\u001b[0;31mAttributeError\u001b[0m                            Traceback (most recent call last)",
            "\u001b[0;32m<ipython-input-7-aba1b822a839>\u001b[0m in \u001b[0;36m<cell line: 3>\u001b[0;34m()\u001b[0m\n\u001b[1;32m      2\u001b[0m \u001b[0mexcel_files\u001b[0m \u001b[0;34m=\u001b[0m \u001b[0mglob\u001b[0m\u001b[0;34m.\u001b[0m\u001b[0mglob\u001b[0m\u001b[0;34m(\u001b[0m\u001b[0mpath_to_excel_files\u001b[0m \u001b[0;34m+\u001b[0m \u001b[0;34m\"*.xlsx\"\u001b[0m\u001b[0;34m)\u001b[0m\u001b[0;34m\u001b[0m\u001b[0;34m\u001b[0m\u001b[0m\n\u001b[1;32m      3\u001b[0m \u001b[0;32mfor\u001b[0m \u001b[0mexcel_file\u001b[0m \u001b[0;32min\u001b[0m \u001b[0mexcel_files\u001b[0m\u001b[0;34m:\u001b[0m\u001b[0;34m\u001b[0m\u001b[0;34m\u001b[0m\u001b[0m\n\u001b[0;32m----> 4\u001b[0;31m     \u001b[0mintervals\u001b[0m \u001b[0;34m=\u001b[0m \u001b[0mgen_excel_data\u001b[0m\u001b[0;34m(\u001b[0m\u001b[0mexcel_file\u001b[0m\u001b[0;34m)\u001b[0m\u001b[0;34m\u001b[0m\u001b[0;34m\u001b[0m\u001b[0m\n\u001b[0m\u001b[1;32m      5\u001b[0m     \u001b[0mmp3_file_name\u001b[0m \u001b[0;34m=\u001b[0m \u001b[0mos\u001b[0m\u001b[0;34m.\u001b[0m\u001b[0mpath\u001b[0m\u001b[0;34m.\u001b[0m\u001b[0msplitext\u001b[0m\u001b[0;34m(\u001b[0m\u001b[0mos\u001b[0m\u001b[0;34m.\u001b[0m\u001b[0mpath\u001b[0m\u001b[0;34m.\u001b[0m\u001b[0mbasename\u001b[0m\u001b[0;34m(\u001b[0m\u001b[0mexcel_file\u001b[0m\u001b[0;34m)\u001b[0m\u001b[0;34m)\u001b[0m\u001b[0;34m[\u001b[0m\u001b[0;36m0\u001b[0m\u001b[0;34m]\u001b[0m \u001b[0;34m+\u001b[0m \u001b[0;34m\".mp3\"\u001b[0m\u001b[0;34m\u001b[0m\u001b[0;34m\u001b[0m\u001b[0m\n\u001b[1;32m      6\u001b[0m     \u001b[0mmp3_file_path\u001b[0m \u001b[0;34m=\u001b[0m \u001b[0mos\u001b[0m\u001b[0;34m.\u001b[0m\u001b[0mpath\u001b[0m\u001b[0;34m.\u001b[0m\u001b[0mjoin\u001b[0m\u001b[0;34m(\u001b[0m\u001b[0mpath_to_mp3_files\u001b[0m\u001b[0;34m,\u001b[0m \u001b[0mmp3_file_name\u001b[0m\u001b[0;34m)\u001b[0m\u001b[0;34m\u001b[0m\u001b[0;34m\u001b[0m\u001b[0m\n",
            "\u001b[0;32m<ipython-input-4-ce834d6fd14e>\u001b[0m in \u001b[0;36mgen_excel_data\u001b[0;34m(file)\u001b[0m\n\u001b[1;32m     17\u001b[0m \u001b[0;34m\u001b[0m\u001b[0m\n\u001b[1;32m     18\u001b[0m     \u001b[0;32mfor\u001b[0m \u001b[0mrow\u001b[0m \u001b[0;32min\u001b[0m \u001b[0mdata_as_list\u001b[0m\u001b[0;34m:\u001b[0m\u001b[0;34m\u001b[0m\u001b[0;34m\u001b[0m\u001b[0m\n\u001b[0;32m---> 19\u001b[0;31m         \u001b[0mcurrent_time\u001b[0m \u001b[0;34m=\u001b[0m \u001b[0mconvert_to_timedelta\u001b[0m\u001b[0;34m(\u001b[0m\u001b[0mrow\u001b[0m\u001b[0;34m[\u001b[0m\u001b[0;36m0\u001b[0m\u001b[0;34m]\u001b[0m\u001b[0;34m)\u001b[0m\u001b[0;34m\u001b[0m\u001b[0;34m\u001b[0m\u001b[0m\n\u001b[0m\u001b[1;32m     20\u001b[0m         \u001b[0mend_time\u001b[0m \u001b[0;34m=\u001b[0m \u001b[0mconvert_to_timedelta\u001b[0m\u001b[0;34m(\u001b[0m\u001b[0mrow\u001b[0m\u001b[0;34m[\u001b[0m\u001b[0;36m1\u001b[0m\u001b[0;34m]\u001b[0m\u001b[0;34m)\u001b[0m\u001b[0;34m\u001b[0m\u001b[0;34m\u001b[0m\u001b[0m\n\u001b[1;32m     21\u001b[0m         \u001b[0mclassification\u001b[0m \u001b[0;34m=\u001b[0m \u001b[0mrow\u001b[0m\u001b[0;34m[\u001b[0m\u001b[0;36m2\u001b[0m\u001b[0;34m]\u001b[0m\u001b[0;34m\u001b[0m\u001b[0;34m\u001b[0m\u001b[0m\n",
            "\u001b[0;32m<ipython-input-4-ce834d6fd14e>\u001b[0m in \u001b[0;36mconvert_to_timedelta\u001b[0;34m(time_str)\u001b[0m\n\u001b[1;32m      3\u001b[0m \u001b[0;31m# Function to convert string time to timedelta\u001b[0m\u001b[0;34m\u001b[0m\u001b[0;34m\u001b[0m\u001b[0m\n\u001b[1;32m      4\u001b[0m \u001b[0;32mdef\u001b[0m \u001b[0mconvert_to_timedelta\u001b[0m\u001b[0;34m(\u001b[0m\u001b[0mtime_str\u001b[0m\u001b[0;34m)\u001b[0m\u001b[0;34m:\u001b[0m\u001b[0;34m\u001b[0m\u001b[0;34m\u001b[0m\u001b[0m\n\u001b[0;32m----> 5\u001b[0;31m     \u001b[0mparts\u001b[0m \u001b[0;34m=\u001b[0m \u001b[0mtime_str\u001b[0m\u001b[0;34m.\u001b[0m\u001b[0msplit\u001b[0m\u001b[0;34m(\u001b[0m\u001b[0;34m':'\u001b[0m\u001b[0;34m)\u001b[0m\u001b[0;34m\u001b[0m\u001b[0;34m\u001b[0m\u001b[0m\n\u001b[0m\u001b[1;32m      6\u001b[0m     \u001b[0mminutes\u001b[0m \u001b[0;34m=\u001b[0m \u001b[0mint\u001b[0m\u001b[0;34m(\u001b[0m\u001b[0mparts\u001b[0m\u001b[0;34m[\u001b[0m\u001b[0;36m0\u001b[0m\u001b[0;34m]\u001b[0m\u001b[0;34m)\u001b[0m\u001b[0;34m\u001b[0m\u001b[0;34m\u001b[0m\u001b[0m\n\u001b[1;32m      7\u001b[0m     \u001b[0mseconds\u001b[0m \u001b[0;34m=\u001b[0m \u001b[0mint\u001b[0m\u001b[0;34m(\u001b[0m\u001b[0mparts\u001b[0m\u001b[0;34m[\u001b[0m\u001b[0;36m1\u001b[0m\u001b[0;34m]\u001b[0m\u001b[0;34m)\u001b[0m \u001b[0;32mif\u001b[0m \u001b[0mlen\u001b[0m\u001b[0;34m(\u001b[0m\u001b[0mparts\u001b[0m\u001b[0;34m)\u001b[0m \u001b[0;34m>\u001b[0m \u001b[0;36m1\u001b[0m \u001b[0;32melse\u001b[0m \u001b[0;36m0\u001b[0m\u001b[0;34m\u001b[0m\u001b[0;34m\u001b[0m\u001b[0m\n",
            "\u001b[0;31mAttributeError\u001b[0m: 'datetime.time' object has no attribute 'split'"
          ]
        }
      ]
    },
    {
      "cell_type": "code",
      "source": [],
      "metadata": {
        "id": "Xm1ecogNLeNL"
      },
      "id": "Xm1ecogNLeNL",
      "execution_count": null,
      "outputs": []
    },
    {
      "cell_type": "markdown",
      "id": "7022a1d4-3d00-43e6-8fea-74dab6c35163",
      "metadata": {
        "id": "7022a1d4-3d00-43e6-8fea-74dab6c35163"
      },
      "source": [
        "## Training Model"
      ]
    },
    {
      "cell_type": "code",
      "execution_count": null,
      "id": "43b8e5c3-1099-472f-bc80-8b0eefd97442",
      "metadata": {
        "id": "43b8e5c3-1099-472f-bc80-8b0eefd97442"
      },
      "outputs": [],
      "source": [
        "seg_dir = \"/content/drive/MyDrive/Capstone/train_segments/segments\""
      ]
    },
    {
      "cell_type": "code",
      "source": [
        "import os\n",
        "import random\n",
        "\n",
        "\n",
        "def select_files(directory, num_files_a, num_files_i, num_files_b):\n",
        "    selected_files = []\n",
        "    files_by_class = {}\n",
        "    limit = 0\n",
        "    # Iterate over files in the directory\n",
        "    for filename in os.listdir(directory):\n",
        "        if filename.endswith('.csv'):\n",
        "            classification = filename.split('_')[-1].split('.')[0]\n",
        "            files_by_class.setdefault(classification, []).append(filename)\n",
        "\n",
        "    # Select files for each classification\n",
        "    for classification, files in files_by_class.items():\n",
        "        if classification == 'a':\n",
        "            limit = num_files_a\n",
        "        elif classification == 'i':\n",
        "            limit = num_files_i\n",
        "        elif classification == 'b':\n",
        "            limit = num_files_b\n",
        "        # elif classification == 'o':\n",
        "        #     limit = num_files_o\n",
        "\n",
        "        # Extend only up to the limit of files for each class\n",
        "        selected_files.extend(files[:limit])\n",
        "\n",
        "    return selected_files"
      ],
      "metadata": {
        "id": "b7LGdaExm0Rv"
      },
      "id": "b7LGdaExm0Rv",
      "execution_count": null,
      "outputs": []
    },
    {
      "cell_type": "code",
      "execution_count": null,
      "id": "32d5d956-6d0f-4333-89bf-f4771adf6f4f",
      "metadata": {
        "id": "32d5d956-6d0f-4333-89bf-f4771adf6f4f"
      },
      "outputs": [],
      "source": [
        "from sklearn.preprocessing import StandardScaler\n",
        "\n",
        "def load_and_normalize_files(selected_files, directory):\n",
        "    # Initialize lists to store features and labels\n",
        "    features = []\n",
        "    labels = []\n",
        "\n",
        "    # Iterate over selected files\n",
        "    for filename in selected_files:\n",
        "        # Load CSV file\n",
        "        file_path = os.path.join(directory, filename)\n",
        "        df = pd.read_csv(file_path)\n",
        "\n",
        "        # Extract features (assuming the CSV contains feature columns)\n",
        "        # Modify this part according to your feature extraction method\n",
        "        extracted_features = df.values\n",
        "\n",
        "        # Normalize features using StandardScaler\n",
        "        scaler = StandardScaler()\n",
        "        normalized_features = scaler.fit_transform(extracted_features)\n",
        "\n",
        "        # Store normalized features and label\n",
        "        features.append(normalized_features)\n",
        "        labels.append(filename.split('_')[-1].split('.')[0])  # Extract classification from filename\n",
        "\n",
        "    return np.array(features), labels"
      ]
    },
    {
      "cell_type": "code",
      "execution_count": null,
      "id": "c42042aa-6b37-407b-b2fd-f9ac8d0ef96b",
      "metadata": {
        "id": "c42042aa-6b37-407b-b2fd-f9ac8d0ef96b"
      },
      "outputs": [],
      "source": [
        "import os\n",
        "import pandas as pd\n",
        "import numpy as np\n",
        "from sklearn.preprocessing import StandardScaler\n",
        "from tensorflow.keras.preprocessing.sequence import pad_sequences\n",
        "\n",
        "def load_and_normalize_files(selected_files, directory, max_length=1000):\n",
        "    features = []\n",
        "    labels = []\n",
        "    class_mapping = {'a': 0, 'i': 1, 'b': 2}\n",
        "\n",
        "    scaler = StandardScaler()  # Initialize scaler to be used for all files for consistency\n",
        "\n",
        "    for filename in selected_files:\n",
        "        file_path = os.path.join(directory, filename)\n",
        "        df = pd.read_csv(file_path)\n",
        "        extracted_features = df.values\n",
        "\n",
        "        # Normalize features\n",
        "        normalized_features = scaler.fit_transform(extracted_features)\n",
        "\n",
        "        # Pad or truncate rows (sequences) to max_length\n",
        "        if normalized_features.shape[0] < max_length:\n",
        "            # Pad rows if fewer than max_length\n",
        "            padded_features = np.pad(normalized_features, ((0, max_length - normalized_features.shape[0]), (0, 0)), 'constant', constant_values=0)\n",
        "        else:\n",
        "            # Truncate rows if more than max_length\n",
        "            padded_features = normalized_features[:max_length, :]\n",
        "\n",
        "        # Pad or truncate columns (features per sequence) to max_length\n",
        "        if padded_features.shape[1] < max_length:\n",
        "            # Pad columns if fewer than max_length\n",
        "            padded_features = np.pad(padded_features, ((0, 0), (0, max_length - padded_features.shape[1])), 'constant', constant_values=0)\n",
        "        elif padded_features.shape[1] > max_length:\n",
        "            # Truncate columns if more than max_length\n",
        "            padded_features = padded_features[:, :max_length]\n",
        "\n",
        "        features.append(padded_features)\n",
        "        label = filename.split('_')[-1].split('.')[0]\n",
        "        encoded_label = class_mapping[label]\n",
        "        labels.append(encoded_label)\n",
        "\n",
        "        # Debug: print the shape of each processed file\n",
        "        #print(f\"Processed file {filename} with shape {padded_features.shape}\")\n",
        "\n",
        "    # Stack features ensuring they are the same shape\n",
        "    features_array = np.stack(features)  # Use np.stack to ensure all feature arrays are stacked properly\n",
        "    labels_array = np.array(labels)\n",
        "\n",
        "    return features_array, labels_array"
      ]
    },
    {
      "cell_type": "code",
      "source": [
        "# Example usage\n",
        "directory = \"/content/drive/MyDrive/Capstone/train_segments/segments\"\n",
        "max_length = 1000  # This needs to be the maximum sequence length expected\n",
        "num_files_a = 120\n",
        "num_files_i = 120\n",
        "num_files_b = 120\n",
        "# num_files_o = 100\n",
        "\n",
        "selected_files = select_files(directory, num_files_a, num_files_i, num_files_b)\n",
        "\n",
        "# Load and normalize files with padding\n",
        "features, labels = load_and_normalize_files(selected_files, directory, max_length=max_length)\n",
        "\n",
        "# Check shapes and print results\n",
        "print(features.shape)\n",
        "print(labels)"
      ],
      "metadata": {
        "colab": {
          "base_uri": "https://localhost:8080/"
        },
        "id": "hO_CoOCzq6Ak",
        "outputId": "84d788b2-c47f-4321-e73f-624411e0c125"
      },
      "id": "hO_CoOCzq6Ak",
      "execution_count": null,
      "outputs": [
        {
          "output_type": "stream",
          "name": "stdout",
          "text": [
            "(360, 1000, 1000)\n",
            "[1 1 1 1 1 1 1 1 1 1 1 1 1 1 1 1 1 1 1 1 1 1 1 1 1 1 1 1 1 1 1 1 1 1 1 1 1\n",
            " 1 1 1 1 1 1 1 1 1 1 1 1 1 1 1 1 1 1 1 1 1 1 1 1 1 1 1 1 1 1 1 1 1 1 1 1 1\n",
            " 1 1 1 1 1 1 1 1 1 1 1 1 1 1 1 1 1 1 1 1 1 1 1 1 1 1 1 1 1 1 1 1 1 1 1 1 1\n",
            " 1 1 1 1 1 1 1 1 1 0 0 0 0 0 0 0 0 0 0 0 0 0 0 0 0 0 0 0 0 0 0 0 0 0 0 0 0\n",
            " 0 0 0 0 0 0 0 0 0 0 0 0 0 0 0 0 0 0 0 0 0 0 0 0 0 0 0 0 0 0 0 0 0 0 0 0 0\n",
            " 0 0 0 0 0 0 0 0 0 0 0 0 0 0 0 0 0 0 0 0 0 0 0 0 0 0 0 0 0 0 0 0 0 0 0 0 0\n",
            " 0 0 0 0 0 0 0 0 0 0 0 0 0 0 0 0 0 0 2 2 2 2 2 2 2 2 2 2 2 2 2 2 2 2 2 2 2\n",
            " 2 2 2 2 2 2 2 2 2 2 2 2 2 2 2 2 2 2 2 2 2 2 2 2 2 2 2 2 2 2 2 2 2 2 2 2 2\n",
            " 2 2 2 2 2 2 2 2 2 2 2 2 2 2 2 2 2 2 2 2 2 2 2 2 2 2 2 2 2 2 2 2 2 2 2 2 2\n",
            " 2 2 2 2 2 2 2 2 2 2 2 2 2 2 2 2 2 2 2 2 2 2 2 2 2 2 2]\n"
          ]
        }
      ]
    },
    {
      "cell_type": "code",
      "execution_count": null,
      "id": "2f47b1c1-9029-4737-9933-9ade44962d48",
      "metadata": {
        "colab": {
          "base_uri": "https://localhost:8080/"
        },
        "id": "2f47b1c1-9029-4737-9933-9ade44962d48",
        "outputId": "d08d8142-60a2-4946-a2ae-c5e328a34564"
      },
      "outputs": [
        {
          "output_type": "stream",
          "name": "stdout",
          "text": [
            "Training set shape: (288, 1000, 1000)\n",
            "Validation set shape: (72, 1000, 1000)\n"
          ]
        }
      ],
      "source": [
        "from sklearn.model_selection import train_test_split\n",
        "\n",
        "# Split the data into training and validation sets (adjust test_size as needed)\n",
        "X_train, X_val, y_train, y_val = train_test_split(features, labels, test_size=0.2, random_state=42)\n",
        "\n",
        "# Print the shapes of the training and validation sets\n",
        "print(\"Training set shape:\", X_train.shape)\n",
        "print(\"Validation set shape:\", X_val.shape)"
      ]
    },
    {
      "cell_type": "code",
      "source": [
        "from keras.models import Sequential\n",
        "from keras.layers import LSTM, Dense, Dropout, BatchNormalization\n",
        "from keras.optimizers import Adam, SGD\n",
        "\n",
        "# Define the input shape\n",
        "input_shape = (1000, 1000)  # Shape of each spectrogram\n",
        "\n",
        "# Define the number of classes\n",
        "num_classes = 4  # Number of classes (adult, infant, background, overlap)"
      ],
      "metadata": {
        "id": "vNQR-FAYnzjj"
      },
      "id": "vNQR-FAYnzjj",
      "execution_count": null,
      "outputs": []
    },
    {
      "cell_type": "code",
      "source": [
        "from keras.layers import Dense\n",
        "from keras.regularizers import l2\n",
        "# Define the LSTM model\n",
        "model = Sequential([\n",
        "    LSTM(units=128, input_shape=input_shape, return_sequences=True),\n",
        "    BatchNormalization(),  # Add BatchNormalization layer\n",
        "    Dropout(0.3),  # Add dropout for regularization\n",
        "    LSTM(units=128),\n",
        "    BatchNormalization(),  # Add BatchNormalization layer\n",
        "    Dropout(0.5),  # Add dropout for regularization\n",
        "    Dense(64, activation='relu'),  # Add a dense layer\n",
        "    Dropout(0.3),  # Add dropout for regularization\n",
        "    Dense(num_classes, activation='softmax', kernel_regularizer=l2(0.001))  # Output layer with softmax activation\n",
        "])\n",
        "learning_rate = 0.001\n",
        "epochs = 100\n",
        "wd = learning_rate/epochs\n",
        "\n",
        "# Compile the model\n",
        "model.compile(optimizer=SGD(learning_rate=0.0001,momentum=.99, weight_decay= wd),\n",
        "              loss='sparse_categorical_crossentropy',\n",
        "              metrics=['accuracy'])\n",
        "\n",
        "# Print model summary\n",
        "print(model.summary())"
      ],
      "metadata": {
        "colab": {
          "base_uri": "https://localhost:8080/"
        },
        "id": "MTvOsZGIxRMk",
        "outputId": "fb7862de-cda7-4981-949c-8fcc06a9ced4"
      },
      "id": "MTvOsZGIxRMk",
      "execution_count": null,
      "outputs": [
        {
          "output_type": "stream",
          "name": "stdout",
          "text": [
            "Model: \"sequential_2\"\n",
            "_________________________________________________________________\n",
            " Layer (type)                Output Shape              Param #   \n",
            "=================================================================\n",
            " lstm_4 (LSTM)               (None, 1000, 128)         578048    \n",
            "                                                                 \n",
            " batch_normalization_4 (Bat  (None, 1000, 128)         512       \n",
            " chNormalization)                                                \n",
            "                                                                 \n",
            " dropout_6 (Dropout)         (None, 1000, 128)         0         \n",
            "                                                                 \n",
            " lstm_5 (LSTM)               (None, 128)               131584    \n",
            "                                                                 \n",
            " batch_normalization_5 (Bat  (None, 128)               512       \n",
            " chNormalization)                                                \n",
            "                                                                 \n",
            " dropout_7 (Dropout)         (None, 128)               0         \n",
            "                                                                 \n",
            " dense_4 (Dense)             (None, 64)                8256      \n",
            "                                                                 \n",
            " dropout_8 (Dropout)         (None, 64)                0         \n",
            "                                                                 \n",
            " dense_5 (Dense)             (None, 4)                 260       \n",
            "                                                                 \n",
            "=================================================================\n",
            "Total params: 719172 (2.74 MB)\n",
            "Trainable params: 718660 (2.74 MB)\n",
            "Non-trainable params: 512 (2.00 KB)\n",
            "_________________________________________________________________\n",
            "None\n"
          ]
        }
      ]
    },
    {
      "cell_type": "code",
      "source": [
        "from keras.callbacks import EarlyStopping\n",
        "\n",
        "# Define early stopping callback\n",
        "early_stopping = EarlyStopping(monitor='val_loss', patience=10, restore_best_weights=True)\n",
        "\n",
        "# Train the model with early stopping\n",
        "history = model.fit(X_train, y_train, validation_data=(X_val, y_val),\n",
        "                    epochs=100, batch_size=64, callbacks=[early_stopping])\n"
      ],
      "metadata": {
        "colab": {
          "base_uri": "https://localhost:8080/"
        },
        "id": "K3CiSOCTOeIS",
        "outputId": "45daf526-8904-4606-8bf1-5855854808b7"
      },
      "id": "K3CiSOCTOeIS",
      "execution_count": null,
      "outputs": [
        {
          "output_type": "stream",
          "name": "stdout",
          "text": [
            "Epoch 1/100\n",
            "5/5 [==============================] - 6s 578ms/step - loss: 2.0341 - accuracy: 0.2326 - val_loss: 1.3372 - val_accuracy: 0.6250\n",
            "Epoch 2/100\n",
            "5/5 [==============================] - 1s 251ms/step - loss: 1.8172 - accuracy: 0.3507 - val_loss: 1.3208 - val_accuracy: 0.5556\n",
            "Epoch 3/100\n",
            "5/5 [==============================] - 1s 250ms/step - loss: 1.7842 - accuracy: 0.3264 - val_loss: 1.3009 - val_accuracy: 0.6111\n",
            "Epoch 4/100\n",
            "5/5 [==============================] - 1s 250ms/step - loss: 1.6433 - accuracy: 0.3785 - val_loss: 1.2793 - val_accuracy: 0.5972\n",
            "Epoch 5/100\n",
            "5/5 [==============================] - 1s 248ms/step - loss: 1.4143 - accuracy: 0.4583 - val_loss: 1.2584 - val_accuracy: 0.6250\n",
            "Epoch 6/100\n",
            "5/5 [==============================] - 1s 249ms/step - loss: 1.5153 - accuracy: 0.4618 - val_loss: 1.2395 - val_accuracy: 0.6389\n",
            "Epoch 7/100\n",
            "5/5 [==============================] - 1s 251ms/step - loss: 1.3158 - accuracy: 0.4861 - val_loss: 1.2216 - val_accuracy: 0.6389\n",
            "Epoch 8/100\n",
            "5/5 [==============================] - 1s 248ms/step - loss: 1.2549 - accuracy: 0.5278 - val_loss: 1.1967 - val_accuracy: 0.6389\n",
            "Epoch 9/100\n",
            "5/5 [==============================] - 1s 253ms/step - loss: 1.3263 - accuracy: 0.5000 - val_loss: 1.1671 - val_accuracy: 0.6250\n",
            "Epoch 10/100\n",
            "5/5 [==============================] - 1s 253ms/step - loss: 1.1788 - accuracy: 0.5521 - val_loss: 1.1384 - val_accuracy: 0.6250\n",
            "Epoch 11/100\n",
            "5/5 [==============================] - 1s 249ms/step - loss: 1.0587 - accuracy: 0.5764 - val_loss: 1.1107 - val_accuracy: 0.6250\n",
            "Epoch 12/100\n",
            "5/5 [==============================] - 1s 250ms/step - loss: 1.1570 - accuracy: 0.5521 - val_loss: 1.0840 - val_accuracy: 0.6250\n",
            "Epoch 13/100\n",
            "5/5 [==============================] - 1s 252ms/step - loss: 1.1880 - accuracy: 0.5625 - val_loss: 1.0587 - val_accuracy: 0.6111\n",
            "Epoch 14/100\n",
            "5/5 [==============================] - 1s 253ms/step - loss: 1.0315 - accuracy: 0.5729 - val_loss: 1.0329 - val_accuracy: 0.6111\n",
            "Epoch 15/100\n",
            "5/5 [==============================] - 1s 252ms/step - loss: 1.1111 - accuracy: 0.5729 - val_loss: 1.0085 - val_accuracy: 0.6111\n",
            "Epoch 16/100\n",
            "5/5 [==============================] - 1s 250ms/step - loss: 1.0963 - accuracy: 0.5625 - val_loss: 0.9851 - val_accuracy: 0.6111\n",
            "Epoch 17/100\n",
            "5/5 [==============================] - 1s 251ms/step - loss: 0.9814 - accuracy: 0.6042 - val_loss: 0.9616 - val_accuracy: 0.6111\n",
            "Epoch 18/100\n",
            "5/5 [==============================] - 1s 254ms/step - loss: 1.1061 - accuracy: 0.5868 - val_loss: 0.9395 - val_accuracy: 0.6111\n",
            "Epoch 19/100\n",
            "5/5 [==============================] - 1s 255ms/step - loss: 0.9673 - accuracy: 0.6493 - val_loss: 0.9204 - val_accuracy: 0.6111\n",
            "Epoch 20/100\n",
            "5/5 [==============================] - 1s 253ms/step - loss: 0.9917 - accuracy: 0.5833 - val_loss: 0.9012 - val_accuracy: 0.6111\n",
            "Epoch 21/100\n",
            "5/5 [==============================] - 1s 251ms/step - loss: 1.1192 - accuracy: 0.5590 - val_loss: 0.8828 - val_accuracy: 0.6111\n",
            "Epoch 22/100\n",
            "5/5 [==============================] - 1s 252ms/step - loss: 0.9564 - accuracy: 0.6146 - val_loss: 0.8640 - val_accuracy: 0.6111\n",
            "Epoch 23/100\n",
            "5/5 [==============================] - 1s 250ms/step - loss: 1.0245 - accuracy: 0.6007 - val_loss: 0.8473 - val_accuracy: 0.6111\n",
            "Epoch 24/100\n",
            "5/5 [==============================] - 1s 251ms/step - loss: 0.9074 - accuracy: 0.6562 - val_loss: 0.8330 - val_accuracy: 0.6111\n",
            "Epoch 25/100\n",
            "5/5 [==============================] - 1s 251ms/step - loss: 0.9695 - accuracy: 0.6042 - val_loss: 0.8195 - val_accuracy: 0.6111\n",
            "Epoch 26/100\n",
            "5/5 [==============================] - 1s 250ms/step - loss: 0.9462 - accuracy: 0.6146 - val_loss: 0.8094 - val_accuracy: 0.6111\n",
            "Epoch 27/100\n",
            "5/5 [==============================] - 1s 251ms/step - loss: 0.9173 - accuracy: 0.6354 - val_loss: 0.7985 - val_accuracy: 0.6111\n",
            "Epoch 28/100\n",
            "5/5 [==============================] - 1s 322ms/step - loss: 1.0190 - accuracy: 0.5938 - val_loss: 0.7859 - val_accuracy: 0.6111\n",
            "Epoch 29/100\n",
            "5/5 [==============================] - 1s 255ms/step - loss: 0.8887 - accuracy: 0.6007 - val_loss: 0.7731 - val_accuracy: 0.6111\n",
            "Epoch 30/100\n",
            "5/5 [==============================] - 1s 254ms/step - loss: 0.9715 - accuracy: 0.6042 - val_loss: 0.7598 - val_accuracy: 0.6111\n",
            "Epoch 31/100\n",
            "5/5 [==============================] - 1s 254ms/step - loss: 0.8550 - accuracy: 0.6319 - val_loss: 0.7455 - val_accuracy: 0.6111\n",
            "Epoch 32/100\n",
            "5/5 [==============================] - 1s 257ms/step - loss: 0.9089 - accuracy: 0.6319 - val_loss: 0.7308 - val_accuracy: 0.6250\n",
            "Epoch 33/100\n",
            "5/5 [==============================] - 1s 250ms/step - loss: 0.8833 - accuracy: 0.6701 - val_loss: 0.7164 - val_accuracy: 0.6250\n",
            "Epoch 34/100\n",
            "5/5 [==============================] - 1s 252ms/step - loss: 0.9700 - accuracy: 0.6076 - val_loss: 0.7036 - val_accuracy: 0.6250\n",
            "Epoch 35/100\n",
            "5/5 [==============================] - 1s 252ms/step - loss: 0.9107 - accuracy: 0.5938 - val_loss: 0.6933 - val_accuracy: 0.6389\n",
            "Epoch 36/100\n",
            "5/5 [==============================] - 1s 253ms/step - loss: 0.9378 - accuracy: 0.6076 - val_loss: 0.6852 - val_accuracy: 0.6806\n",
            "Epoch 37/100\n",
            "5/5 [==============================] - 1s 253ms/step - loss: 0.8423 - accuracy: 0.6562 - val_loss: 0.6800 - val_accuracy: 0.6528\n",
            "Epoch 38/100\n",
            "5/5 [==============================] - 1s 255ms/step - loss: 0.8850 - accuracy: 0.6181 - val_loss: 0.6788 - val_accuracy: 0.6667\n",
            "Epoch 39/100\n",
            "5/5 [==============================] - 1s 253ms/step - loss: 0.9107 - accuracy: 0.5833 - val_loss: 0.6795 - val_accuracy: 0.6528\n",
            "Epoch 40/100\n",
            "5/5 [==============================] - 1s 252ms/step - loss: 0.8756 - accuracy: 0.6076 - val_loss: 0.6795 - val_accuracy: 0.6667\n",
            "Epoch 41/100\n",
            "5/5 [==============================] - 1s 250ms/step - loss: 0.8611 - accuracy: 0.5868 - val_loss: 0.6805 - val_accuracy: 0.6806\n",
            "Epoch 42/100\n",
            "5/5 [==============================] - 1s 250ms/step - loss: 0.8359 - accuracy: 0.6215 - val_loss: 0.6804 - val_accuracy: 0.6667\n",
            "Epoch 43/100\n",
            "5/5 [==============================] - 1s 251ms/step - loss: 0.9048 - accuracy: 0.5972 - val_loss: 0.6793 - val_accuracy: 0.6250\n",
            "Epoch 44/100\n",
            "5/5 [==============================] - 1s 249ms/step - loss: 0.9189 - accuracy: 0.6250 - val_loss: 0.6790 - val_accuracy: 0.6667\n",
            "Epoch 45/100\n",
            "5/5 [==============================] - 1s 254ms/step - loss: 0.8833 - accuracy: 0.5972 - val_loss: 0.6779 - val_accuracy: 0.6806\n",
            "Epoch 46/100\n",
            "5/5 [==============================] - 1s 254ms/step - loss: 0.8597 - accuracy: 0.6285 - val_loss: 0.6758 - val_accuracy: 0.6806\n",
            "Epoch 47/100\n",
            "5/5 [==============================] - 1s 253ms/step - loss: 0.8426 - accuracy: 0.5938 - val_loss: 0.6740 - val_accuracy: 0.6944\n",
            "Epoch 48/100\n",
            "5/5 [==============================] - 1s 254ms/step - loss: 0.8853 - accuracy: 0.6111 - val_loss: 0.6716 - val_accuracy: 0.6944\n",
            "Epoch 49/100\n",
            "5/5 [==============================] - 1s 255ms/step - loss: 0.8241 - accuracy: 0.6076 - val_loss: 0.6672 - val_accuracy: 0.6806\n",
            "Epoch 50/100\n",
            "5/5 [==============================] - 1s 255ms/step - loss: 0.8319 - accuracy: 0.6389 - val_loss: 0.6627 - val_accuracy: 0.6944\n",
            "Epoch 51/100\n",
            "5/5 [==============================] - 1s 253ms/step - loss: 0.8114 - accuracy: 0.6458 - val_loss: 0.6568 - val_accuracy: 0.6944\n",
            "Epoch 52/100\n",
            "5/5 [==============================] - 1s 251ms/step - loss: 0.8281 - accuracy: 0.6458 - val_loss: 0.6532 - val_accuracy: 0.6806\n",
            "Epoch 53/100\n",
            "5/5 [==============================] - 1s 256ms/step - loss: 0.8693 - accuracy: 0.6250 - val_loss: 0.6520 - val_accuracy: 0.6806\n",
            "Epoch 54/100\n",
            "5/5 [==============================] - 1s 252ms/step - loss: 0.8077 - accuracy: 0.6250 - val_loss: 0.6520 - val_accuracy: 0.6806\n",
            "Epoch 55/100\n",
            "5/5 [==============================] - 1s 249ms/step - loss: 0.7800 - accuracy: 0.6424 - val_loss: 0.6527 - val_accuracy: 0.6667\n",
            "Epoch 56/100\n",
            "5/5 [==============================] - 1s 250ms/step - loss: 0.8148 - accuracy: 0.6042 - val_loss: 0.6540 - val_accuracy: 0.6806\n",
            "Epoch 57/100\n",
            "5/5 [==============================] - 1s 253ms/step - loss: 0.8198 - accuracy: 0.6354 - val_loss: 0.6554 - val_accuracy: 0.6667\n",
            "Epoch 58/100\n",
            "5/5 [==============================] - 1s 256ms/step - loss: 0.7956 - accuracy: 0.6424 - val_loss: 0.6562 - val_accuracy: 0.6806\n",
            "Epoch 59/100\n",
            "5/5 [==============================] - 1s 252ms/step - loss: 0.8071 - accuracy: 0.5799 - val_loss: 0.6570 - val_accuracy: 0.6806\n",
            "Epoch 60/100\n",
            "5/5 [==============================] - 1s 249ms/step - loss: 0.7835 - accuracy: 0.6354 - val_loss: 0.6574 - val_accuracy: 0.6667\n",
            "Epoch 61/100\n",
            "5/5 [==============================] - 1s 248ms/step - loss: 0.7887 - accuracy: 0.6354 - val_loss: 0.6576 - val_accuracy: 0.6667\n",
            "Epoch 62/100\n",
            "5/5 [==============================] - 1s 251ms/step - loss: 0.7973 - accuracy: 0.6354 - val_loss: 0.6576 - val_accuracy: 0.6806\n",
            "Epoch 63/100\n",
            "5/5 [==============================] - 1s 251ms/step - loss: 0.8150 - accuracy: 0.6250 - val_loss: 0.6572 - val_accuracy: 0.6806\n",
            "Epoch 64/100\n",
            "5/5 [==============================] - 1s 256ms/step - loss: 0.7715 - accuracy: 0.6215 - val_loss: 0.6573 - val_accuracy: 0.6806\n"
          ]
        }
      ]
    },
    {
      "cell_type": "code",
      "source": [
        "# Evaluate the model on the validation set\n",
        "loss, accuracy = model.evaluate(X_val, y_val)\n",
        "print(\"Validation loss:\", loss)\n",
        "print(\"Validation accuracy:\", accuracy)"
      ],
      "metadata": {
        "colab": {
          "base_uri": "https://localhost:8080/"
        },
        "id": "2VeUb_FqoFts",
        "outputId": "dcbbdd4c-7990-48b4-d3ab-49e5bfd2069f"
      },
      "id": "2VeUb_FqoFts",
      "execution_count": null,
      "outputs": [
        {
          "output_type": "stream",
          "name": "stdout",
          "text": [
            "3/3 [==============================] - 0s 53ms/step - loss: 0.6520 - accuracy: 0.6806\n",
            "Validation loss: 0.6519625782966614\n",
            "Validation accuracy: 0.6805555820465088\n"
          ]
        }
      ]
    },
    {
      "cell_type": "code",
      "source": [
        "import matplotlib.pyplot as plt\n",
        "\n",
        "# Plot training and validation accuracy\n",
        "plt.plot(history.history['accuracy'], label='Training accuracy')\n",
        "plt.plot(history.history['val_accuracy'], label='Validation accuracy')\n",
        "plt.xlabel('Epoch')\n",
        "plt.ylabel('Accuracy')\n",
        "plt.legend()\n",
        "plt.show()\n"
      ],
      "metadata": {
        "colab": {
          "base_uri": "https://localhost:8080/",
          "height": 449
        },
        "id": "LeSUp-cdoFoD",
        "outputId": "73a6ced3-af25-4956-9669-d712a762b507"
      },
      "id": "LeSUp-cdoFoD",
      "execution_count": null,
      "outputs": [
        {
          "output_type": "display_data",
          "data": {
            "text/plain": [
              "<Figure size 640x480 with 1 Axes>"
            ],
            "image/png": "[encoded data removed]"
          },
          "metadata": {}
        }
      ]
    },
    {
      "cell_type": "code",
      "source": [
        "# prompt: make a train and val loss plot for my model\n",
        "\n",
        "import matplotlib.pyplot as plt\n",
        "\n",
        "# Extract the training and validation loss from the history dictionary\n",
        "train_loss = history.history['loss']\n",
        "val_loss = history.history['val_loss']\n",
        "\n",
        "# Create the plot\n",
        "plt.plot(train_loss, label='Training Loss')\n",
        "plt.plot(val_loss, label='Validation Loss')\n",
        "\n",
        "# Add labels and title\n",
        "plt.xlabel('Epoch')\n",
        "plt.ylabel('Loss')\n",
        "plt.title('Training and Validation Loss')\n",
        "\n",
        "# Add legend and show the plot\n",
        "plt.legend()\n",
        "plt.show()\n"
      ],
      "metadata": {
        "colab": {
          "base_uri": "https://localhost:8080/",
          "height": 472
        },
        "id": "fkxCwBTZ2xX4",
        "outputId": "daace04a-9495-4ab7-9ea0-bbf6e2734cc3"
      },
      "id": "fkxCwBTZ2xX4",
      "execution_count": null,
      "outputs": [
        {
          "output_type": "display_data",
          "data": {
            "text/plain": [
              "<Figure size 640x480 with 1 Axes>"
            ],
            "image/png": "[encoded data removed]"
          },
          "metadata": {}
        }
      ]
    },
    {
      "cell_type": "code",
      "source": [
        "# Make predictions on the validation set\n",
        "predictions = model.predict(X_val)\n",
        "\n",
        "# Convert predictions to class labels\n",
        "predicted_labels = np.argmax(predictions, axis=1)\n",
        "\n",
        "# Print the predicted labels\n",
        "print(\"Predicted labels:\", predicted_labels)\n"
      ],
      "metadata": {
        "colab": {
          "base_uri": "https://localhost:8080/"
        },
        "id": "-WQ1TRGAoFfg",
        "outputId": "e9856ced-2bff-460f-c96f-5d3189801183"
      },
      "id": "-WQ1TRGAoFfg",
      "execution_count": null,
      "outputs": [
        {
          "output_type": "stream",
          "name": "stdout",
          "text": [
            "3/3 [==============================] - 1s 74ms/step\n",
            "Predicted labels: [0 0 0 0 1 0 1 1 0 1 0 0 0 1 0 2 2 2 0 1 2 0 1 1 2 1 0 0 0 0 0 1 0 2 2 1 1\n",
            " 0 0 2 2 0 0 0 1 1 1 1 0 2 2 1 2 0 2 0 1 0 0 1 1 2 1 0 2 1 0 2 2 1 1 2 2 0]\n"
          ]
        }
      ]
    },
    {
      "cell_type": "code",
      "source": [
        "from sklearn.metrics import confusion_matrix\n",
        "conf_matrix = confusion_matrix(y_val, predicted_labels)\n",
        "print(conf_matrix)"
      ],
      "metadata": {
        "colab": {
          "base_uri": "https://localhost:8080/"
        },
        "id": "G4SVyfzS0f9t",
        "outputId": "833930cc-66c6-42f9-f33f-3ba54a2121fe"
      },
      "id": "G4SVyfzS0f9t",
      "execution_count": null,
      "outputs": [
        {
          "output_type": "stream",
          "name": "stdout",
          "text": [
            "[[12  1  8]\n",
            " [10 23  3]\n",
            " [ 9  0  8]]\n"
          ]
        }
      ]
    },
    {
      "cell_type": "code",
      "source": [
        "import seaborn as sns\n",
        "import matplotlib.pyplot as plt\n",
        "from sklearn.metrics import confusion_matrix, f1_score\n",
        "\n",
        "# Make predictions on the validation set\n",
        "y_pred = model.predict(X_val)\n",
        "y_pred_classes = np.argmax(y_pred, axis=1)\n",
        "\n",
        "# Compute confusion matrix\n",
        "conf_matrix = confusion_matrix(y_val, y_pred_classes)\n",
        "\n",
        "# Compute F1 score\n",
        "f1 = f1_score(y_val, y_pred_classes, average='weighted')\n",
        "\n",
        "# Plot confusion matrix\n",
        "plt.figure(figsize=(8, 6))\n",
        "sns.heatmap(conf_matrix, annot=True, cmap='Blues', fmt='g', xticklabels=['Class 0', 'Class 1', 'Class 2', 'Class 3'], yticklabels=['Class 0', 'Class 1', 'Class 2', 'Class 3'])\n",
        "plt.xlabel('Predicted labels')\n",
        "plt.ylabel('True labels')\n",
        "plt.title('Confusion Matrix')\n",
        "plt.show()\n",
        "\n",
        "print(\"F1 Score:\", f1)"
      ],
      "metadata": {
        "colab": {
          "base_uri": "https://localhost:8080/",
          "height": 598
        },
        "id": "LA3-opI7zhXu",
        "outputId": "9cf85528-4fcd-44c9-d1b9-6e911c7260b0"
      },
      "id": "LA3-opI7zhXu",
      "execution_count": null,
      "outputs": [
        {
          "output_type": "stream",
          "name": "stdout",
          "text": [
            "3/3 [==============================] - 0s 66ms/step\n"
          ]
        },
        {
          "output_type": "display_data",
          "data": {
            "text/plain": [
              "<Figure size 800x600 with 2 Axes>"
            ],
            "image/png": "[encoded data removed]"
          },
          "metadata": {}
        },
        {
          "output_type": "stream",
          "name": "stdout",
          "text": [
            "F1 Score: 0.606052206052206\n"
          ]
        }
      ]
    },
    {
      "cell_type": "code",
      "source": [
        "# prompt: save the model\n",
        "model.save('my_model_4_30.h5')\n"
      ],
      "metadata": {
        "id": "yyxZpJbFRSC8",
        "colab": {
          "base_uri": "https://localhost:8080/"
        },
        "outputId": "74d9d1fd-f64e-45f4-95f3-1d960d7464fe"
      },
      "id": "yyxZpJbFRSC8",
      "execution_count": null,
      "outputs": [
        {
          "output_type": "stream",
          "name": "stderr",
          "text": [
            "WARNING:py.warnings:/usr/local/lib/python3.10/dist-packages/keras/src/engine/training.py:3103: UserWarning: You are saving your model as an HDF5 file via `model.save()`. This file format is considered legacy. We recommend using instead the native Keras format, e.g. `model.save('my_model.keras')`.\n",
            "  saving_api.save_model(\n",
            "\n"
          ]
        }
      ]
    },
    {
      "cell_type": "code",
      "source": [
        "from keras.models import Sequential\n",
        "from keras.layers import LSTM, Bidirectional, GlobalMaxPooling1D, Dense\n",
        "\n",
        "# Define the input shape\n",
        "input_shape = (1000, 1000)  # Example input shape\n",
        "\n",
        "# Define the number of classes\n",
        "num_classes = 4  # Example number of classes\n",
        "\n",
        "# Initialize the Sequential model\n",
        "model2 = Sequential()\n",
        "\n",
        "# Add Bidirectional LSTM layer\n",
        "model2.add(Bidirectional(LSTM(units=128, return_sequences=True), input_shape=input_shape))\n",
        "\n",
        "# Add GlobalMaxPooling1D layer\n",
        "model2.add(GlobalMaxPooling1D())\n",
        "\n",
        "# Add Dense layers for classification\n",
        "model2.add(Dense(64, activation='relu'))\n",
        "model2.add(Dense(num_classes, activation='softmax'))\n",
        "\n",
        "# Compile the model\n",
        "model2.compile(optimizer=SGD(learning_rate=0.0001,momentum=.9, weight_decay= wd), loss='sparse_categorical_crossentropy', metrics=['accuracy'])\n",
        "\n",
        "# Print model summary\n",
        "print(model2.summary())\n"
      ],
      "metadata": {
        "colab": {
          "base_uri": "https://localhost:8080/"
        },
        "id": "qH4l7YJf7a-x",
        "outputId": "5737d750-1dac-4c38-c353-a1cce607844a"
      },
      "id": "qH4l7YJf7a-x",
      "execution_count": null,
      "outputs": [
        {
          "output_type": "stream",
          "name": "stdout",
          "text": [
            "Model: \"sequential_6\"\n",
            "_________________________________________________________________\n",
            " Layer (type)                Output Shape              Param #   \n",
            "=================================================================\n",
            " bidirectional_5 (Bidirecti  (None, 1000, 256)         1156096   \n",
            " onal)                                                           \n",
            "                                                                 \n",
            " global_max_pooling1d_5 (Gl  (None, 256)               0         \n",
            " obalMaxPooling1D)                                               \n",
            "                                                                 \n",
            " dense_12 (Dense)            (None, 64)                16448     \n",
            "                                                                 \n",
            " dense_13 (Dense)            (None, 4)                 260       \n",
            "                                                                 \n",
            "=================================================================\n",
            "Total params: 1172804 (4.47 MB)\n",
            "Trainable params: 1172804 (4.47 MB)\n",
            "Non-trainable params: 0 (0.00 Byte)\n",
            "_________________________________________________________________\n",
            "None\n"
          ]
        }
      ]
    },
    {
      "cell_type": "code",
      "source": [
        "# Define early stopping callback\n",
        "early_stopping = EarlyStopping(monitor='val_loss', patience=5, restore_best_weights=True)\n",
        "\n",
        "# Train the model with early stopping\n",
        "history = model2.fit(X_train, y_train, validation_data=(X_val, y_val),\n",
        "                    epochs=100, batch_size=64, callbacks=[early_stopping])\n"
      ],
      "metadata": {
        "colab": {
          "base_uri": "https://localhost:8080/",
          "height": 233
        },
        "id": "UD_MGRwZ7a9G",
        "outputId": "8dae29a7-9535-45e3-cc00-f6ee91ed5a15"
      },
      "id": "UD_MGRwZ7a9G",
      "execution_count": null,
      "outputs": [
        {
          "output_type": "error",
          "ename": "NameError",
          "evalue": "name 'model2' is not defined",
          "traceback": [
            "\u001b[0;31m---------------------------------------------------------------------------\u001b[0m",
            "\u001b[0;31mNameError\u001b[0m                                 Traceback (most recent call last)",
            "\u001b[0;32m<ipython-input-69-a414857e002a>\u001b[0m in \u001b[0;36m<cell line: 5>\u001b[0;34m()\u001b[0m\n\u001b[1;32m      3\u001b[0m \u001b[0;34m\u001b[0m\u001b[0m\n\u001b[1;32m      4\u001b[0m \u001b[0;31m# Train the model with early stopping\u001b[0m\u001b[0;34m\u001b[0m\u001b[0;34m\u001b[0m\u001b[0m\n\u001b[0;32m----> 5\u001b[0;31m history = model2.fit(X_train, y_train, validation_data=(X_val, y_val),\n\u001b[0m\u001b[1;32m      6\u001b[0m                     epochs=100, batch_size=64, callbacks=[early_stopping])\n",
            "\u001b[0;31mNameError\u001b[0m: name 'model2' is not defined"
          ]
        }
      ]
    },
    {
      "cell_type": "code",
      "source": [
        "# Plot training and validation accuracy\n",
        "plt.plot(history.history['accuracy'], label='Training accuracy')\n",
        "plt.plot(history.history['val_accuracy'], label='Validation accuracy')\n",
        "plt.xlabel('Epoch')\n",
        "plt.ylabel('Accuracy')\n",
        "plt.legend()\n",
        "plt.show()"
      ],
      "metadata": {
        "colab": {
          "base_uri": "https://localhost:8080/",
          "height": 449
        },
        "id": "aKscBY4P9kfX",
        "outputId": "90922474-9065-4072-9560-d379b198c8df"
      },
      "id": "aKscBY4P9kfX",
      "execution_count": null,
      "outputs": [
        {
          "output_type": "display_data",
          "data": {
            "text/plain": [
              "<Figure size 640x480 with 1 Axes>"
            ],
            "image/png": "[encoded data removed]"
          },
          "metadata": {}
        }
      ]
    },
    {
      "cell_type": "code",
      "source": [
        "# Extract the training and validation loss from the history dictionary\n",
        "train_loss = history.history['loss']\n",
        "val_loss = history.history['val_loss']\n",
        "\n",
        "# Create the plot\n",
        "plt.plot(train_loss, label='Training Loss')\n",
        "plt.plot(val_loss, label='Validation Loss')\n",
        "\n",
        "# Add labels and title\n",
        "plt.xlabel('Epoch')\n",
        "plt.ylabel('Loss')\n",
        "plt.title('Training and Validation Loss')\n",
        "\n",
        "# Add legend and show the plot\n",
        "plt.legend()\n",
        "plt.show()\n"
      ],
      "metadata": {
        "colab": {
          "base_uri": "https://localhost:8080/",
          "height": 472
        },
        "id": "kFpzfwoW9kV3",
        "outputId": "5864d1ee-da3d-425f-d52e-537e21a92af5"
      },
      "id": "kFpzfwoW9kV3",
      "execution_count": null,
      "outputs": [
        {
          "output_type": "display_data",
          "data": {
            "text/plain": [
              "<Figure size 640x480 with 1 Axes>"
            ],
            "image/png": "[encoded data removed]"
          },
          "metadata": {}
        }
      ]
    },
    {
      "cell_type": "markdown",
      "id": "35f9ee86-ba24-4583-9757-750e779647f1",
      "metadata": {
        "id": "35f9ee86-ba24-4583-9757-750e779647f1"
      },
      "source": [
        "## Unlabeled Data Processing"
      ]
    },
    {
      "cell_type": "code",
      "execution_count": null,
      "id": "ae61fb10-28ae-4de7-b89f-ed1b1de44937",
      "metadata": {
        "id": "ae61fb10-28ae-4de7-b89f-ed1b1de44937"
      },
      "outputs": [],
      "source": [
        "from tensorflow.keras.models import load_model\n",
        "\n",
        "# Load the trained model\n",
        "model = load_model(\"my_model_4_30.h5\")"
      ]
    },
    {
      "cell_type": "markdown",
      "id": "d7684d48-5f30-4a70-a8cd-db47916defed",
      "metadata": {
        "id": "d7684d48-5f30-4a70-a8cd-db47916defed"
      },
      "source": [
        "## Test Data Predictions"
      ]
    },
    {
      "cell_type": "code",
      "execution_count": null,
      "id": "fbec9bc5-bc83-4e7b-b08c-e6e08195de7e",
      "metadata": {
        "id": "fbec9bc5-bc83-4e7b-b08c-e6e08195de7e"
      },
      "outputs": [],
      "source": [
        "import glob\n",
        "import pandas as pd\n",
        "import numpy as np\n",
        "from tensorflow.keras.preprocessing.sequence import pad_sequences\n",
        "\n",
        "def load_test_data(test_folder, num_sequences=1000, max_length=1000, max_files=200, specific_files=None):\n",
        "    # Fetch all CSV files from the input folder\n",
        "    all_files = glob.glob(os.path.join(test_folder, \"*.csv\"))\n",
        "\n",
        "    # If specific files are provided, filter to include only those files\n",
        "    if specific_files:\n",
        "        all_files = [f for f in all_files if any(sf in f for sf in specific_files)]\n",
        "\n",
        "    # Limit the number of files processed based on max_files\n",
        "    selected_files = all_files[:max_files]\n",
        "\n",
        "    test_data = []\n",
        "    for file in selected_files:\n",
        "        df = pd.read_csv(file, header=None)\n",
        "        # Ensure the data has the correct number of sequences\n",
        "        if len(df) > num_sequences:\n",
        "            df = df.iloc[:num_sequences]  # Truncate if more than 1024 sequences\n",
        "        elif len(df) < num_sequences:\n",
        "            # Pad with zeros if fewer than 1024 sequences\n",
        "            padding = pd.DataFrame(0, index=np.arange(num_sequences - len(df)), columns=df.columns)\n",
        "            df = pd.concat([df, padding], ignore_index=True)\n",
        "\n",
        "        # Pad or truncate each sequence to have a length of 1000\n",
        "        padded_data = pad_sequences(df.values, maxlen=max_length, dtype='float32', padding='post', truncating='post')\n",
        "        test_data.append(padded_data)\n",
        "\n",
        "    return test_data, selected_files"
      ]
    },
    {
      "cell_type": "code",
      "execution_count": null,
      "id": "f33ef2ff-2570-4e50-bb82-6be216f3547f",
      "metadata": {
        "id": "f33ef2ff-2570-4e50-bb82-6be216f3547f"
      },
      "outputs": [],
      "source": [
        "def predict(model, test_data):\n",
        "    predictions = []\n",
        "    for data in test_data:\n",
        "        # Reshape data to ensure it matches the expected input shape of the model\n",
        "        # Model expects (None, 1024, 1000), where None is the batch size\n",
        "        if data.shape[0] == 1000 and data.shape[1] == 1000:\n",
        "            prediction = model.predict(np.expand_dims(data, axis=0))  # Add the batch dimension\n",
        "            predictions.append(prediction)\n",
        "        else:\n",
        "            print(\"Data shape mismatch, skipping prediction.\")\n",
        "    return predictions"
      ]
    },
    {
      "cell_type": "code",
      "source": [
        "# Load test data\n",
        "test_folder = \"/content/drive/MyDrive/Capstone/Processed/Normalized\"\n",
        "test_data, test_files = load_test_data(test_folder)\n",
        "\n",
        "# Predict\n",
        "predictions = predict(model, test_data)\n",
        "\n",
        "# Optionally, print or save the predictions\n",
        "for file, prediction in zip(test_files, predictions):\n",
        "    filename = os.path.basename(file)\n",
        "    print(f\"File: {filename}, Prediction: {prediction}\")\n"
      ],
      "metadata": {
        "colab": {
          "base_uri": "https://localhost:8080/"
        },
        "id": "3kfkfGRBWQLL",
        "outputId": "3cab59c7-70bb-400f-e7d0-c1ef3fb05791"
      },
      "id": "3kfkfGRBWQLL",
      "execution_count": null,
      "outputs": [
        {
          "output_type": "stream",
          "name": "stdout",
          "text": [
            "1/1 [==============================] - 0s 41ms/step\n",
            "1/1 [==============================] - 0s 40ms/step\n",
            "1/1 [==============================] - 0s 40ms/step\n",
            "1/1 [==============================] - 0s 41ms/step\n",
            "1/1 [==============================] - 0s 41ms/step\n",
            "1/1 [==============================] - 0s 40ms/step\n",
            "1/1 [==============================] - 0s 40ms/step\n",
            "1/1 [==============================] - 0s 40ms/step\n",
            "1/1 [==============================] - 0s 39ms/step\n",
            "1/1 [==============================] - 0s 40ms/step\n",
            "1/1 [==============================] - 0s 40ms/step\n",
            "1/1 [==============================] - 0s 41ms/step\n",
            "1/1 [==============================] - 0s 40ms/step\n",
            "1/1 [==============================] - 0s 40ms/step\n",
            "1/1 [==============================] - 0s 40ms/step\n",
            "1/1 [==============================] - 0s 40ms/step\n",
            "1/1 [==============================] - 0s 40ms/step\n",
            "1/1 [==============================] - 0s 41ms/step\n",
            "1/1 [==============================] - 0s 41ms/step\n",
            "1/1 [==============================] - 0s 39ms/step\n",
            "1/1 [==============================] - 0s 40ms/step\n",
            "1/1 [==============================] - 0s 40ms/step\n",
            "1/1 [==============================] - 0s 40ms/step\n",
            "1/1 [==============================] - 0s 40ms/step\n",
            "1/1 [==============================] - 0s 41ms/step\n",
            "1/1 [==============================] - 0s 40ms/step\n",
            "1/1 [==============================] - 0s 40ms/step\n",
            "1/1 [==============================] - 0s 40ms/step\n",
            "1/1 [==============================] - 0s 40ms/step\n",
            "1/1 [==============================] - 0s 41ms/step\n",
            "1/1 [==============================] - 0s 41ms/step\n",
            "1/1 [==============================] - 0s 40ms/step\n",
            "1/1 [==============================] - 0s 41ms/step\n",
            "1/1 [==============================] - 0s 40ms/step\n",
            "1/1 [==============================] - 0s 41ms/step\n",
            "1/1 [==============================] - 0s 40ms/step\n",
            "1/1 [==============================] - 0s 47ms/step\n",
            "1/1 [==============================] - 0s 45ms/step\n",
            "1/1 [==============================] - 0s 41ms/step\n",
            "1/1 [==============================] - 0s 40ms/step\n",
            "1/1 [==============================] - 0s 40ms/step\n",
            "1/1 [==============================] - 0s 41ms/step\n",
            "1/1 [==============================] - 0s 41ms/step\n",
            "1/1 [==============================] - 0s 39ms/step\n",
            "1/1 [==============================] - 0s 42ms/step\n",
            "1/1 [==============================] - 0s 44ms/step\n",
            "1/1 [==============================] - 0s 43ms/step\n",
            "1/1 [==============================] - 0s 41ms/step\n",
            "1/1 [==============================] - 0s 41ms/step\n",
            "1/1 [==============================] - 0s 42ms/step\n",
            "1/1 [==============================] - 0s 43ms/step\n",
            "1/1 [==============================] - 0s 44ms/step\n",
            "1/1 [==============================] - 0s 41ms/step\n",
            "1/1 [==============================] - 0s 42ms/step\n",
            "1/1 [==============================] - 0s 45ms/step\n",
            "1/1 [==============================] - 0s 45ms/step\n",
            "1/1 [==============================] - 0s 42ms/step\n",
            "1/1 [==============================] - 0s 41ms/step\n",
            "1/1 [==============================] - 0s 42ms/step\n",
            "1/1 [==============================] - 0s 40ms/step\n",
            "1/1 [==============================] - 0s 41ms/step\n",
            "1/1 [==============================] - 0s 42ms/step\n",
            "1/1 [==============================] - 0s 41ms/step\n",
            "1/1 [==============================] - 0s 42ms/step\n",
            "1/1 [==============================] - 0s 40ms/step\n",
            "1/1 [==============================] - 0s 41ms/step\n",
            "1/1 [==============================] - 0s 41ms/step\n",
            "1/1 [==============================] - 0s 42ms/step\n",
            "1/1 [==============================] - 0s 41ms/step\n",
            "1/1 [==============================] - 0s 41ms/step\n",
            "1/1 [==============================] - 0s 41ms/step\n",
            "1/1 [==============================] - 0s 41ms/step\n",
            "1/1 [==============================] - 0s 41ms/step\n",
            "1/1 [==============================] - 0s 41ms/step\n",
            "1/1 [==============================] - 0s 40ms/step\n",
            "1/1 [==============================] - 0s 41ms/step\n",
            "1/1 [==============================] - 0s 40ms/step\n",
            "1/1 [==============================] - 0s 41ms/step\n",
            "1/1 [==============================] - 0s 42ms/step\n",
            "1/1 [==============================] - 0s 42ms/step\n",
            "1/1 [==============================] - 0s 42ms/step\n",
            "1/1 [==============================] - 0s 41ms/step\n",
            "1/1 [==============================] - 0s 40ms/step\n",
            "1/1 [==============================] - 0s 41ms/step\n",
            "1/1 [==============================] - 0s 44ms/step\n",
            "1/1 [==============================] - 0s 42ms/step\n",
            "1/1 [==============================] - 0s 42ms/step\n",
            "1/1 [==============================] - 0s 40ms/step\n",
            "1/1 [==============================] - 0s 41ms/step\n",
            "1/1 [==============================] - 0s 41ms/step\n",
            "1/1 [==============================] - 0s 40ms/step\n",
            "1/1 [==============================] - 0s 40ms/step\n",
            "1/1 [==============================] - 0s 41ms/step\n",
            "1/1 [==============================] - 0s 41ms/step\n",
            "1/1 [==============================] - 0s 40ms/step\n",
            "1/1 [==============================] - 0s 40ms/step\n",
            "1/1 [==============================] - 0s 41ms/step\n",
            "1/1 [==============================] - 0s 40ms/step\n",
            "1/1 [==============================] - 0s 41ms/step\n",
            "1/1 [==============================] - 0s 43ms/step\n",
            "1/1 [==============================] - 0s 43ms/step\n",
            "1/1 [==============================] - 0s 42ms/step\n",
            "1/1 [==============================] - 0s 43ms/step\n",
            "1/1 [==============================] - 0s 41ms/step\n",
            "1/1 [==============================] - 0s 40ms/step\n",
            "1/1 [==============================] - 0s 40ms/step\n",
            "1/1 [==============================] - 0s 42ms/step\n",
            "1/1 [==============================] - 0s 41ms/step\n",
            "1/1 [==============================] - 0s 40ms/step\n",
            "1/1 [==============================] - 0s 40ms/step\n",
            "1/1 [==============================] - 0s 40ms/step\n",
            "1/1 [==============================] - 0s 40ms/step\n",
            "1/1 [==============================] - 0s 40ms/step\n",
            "1/1 [==============================] - 0s 40ms/step\n",
            "1/1 [==============================] - 0s 41ms/step\n",
            "1/1 [==============================] - 0s 40ms/step\n",
            "1/1 [==============================] - 0s 41ms/step\n",
            "1/1 [==============================] - 0s 39ms/step\n",
            "1/1 [==============================] - 0s 39ms/step\n",
            "1/1 [==============================] - 0s 40ms/step\n",
            "1/1 [==============================] - 0s 39ms/step\n",
            "1/1 [==============================] - 0s 39ms/step\n",
            "1/1 [==============================] - 0s 40ms/step\n",
            "1/1 [==============================] - 0s 40ms/step\n",
            "1/1 [==============================] - 0s 39ms/step\n",
            "1/1 [==============================] - 0s 40ms/step\n",
            "1/1 [==============================] - 0s 40ms/step\n",
            "1/1 [==============================] - 0s 39ms/step\n",
            "1/1 [==============================] - 0s 40ms/step\n",
            "1/1 [==============================] - 0s 40ms/step\n",
            "1/1 [==============================] - 0s 40ms/step\n",
            "1/1 [==============================] - 0s 39ms/step\n",
            "1/1 [==============================] - 0s 39ms/step\n",
            "1/1 [==============================] - 0s 41ms/step\n",
            "1/1 [==============================] - 0s 39ms/step\n",
            "1/1 [==============================] - 0s 39ms/step\n",
            "1/1 [==============================] - 0s 39ms/step\n",
            "1/1 [==============================] - 0s 40ms/step\n",
            "1/1 [==============================] - 0s 41ms/step\n",
            "1/1 [==============================] - 0s 40ms/step\n",
            "1/1 [==============================] - 0s 40ms/step\n",
            "1/1 [==============================] - 0s 40ms/step\n",
            "1/1 [==============================] - 0s 40ms/step\n",
            "1/1 [==============================] - 0s 39ms/step\n",
            "1/1 [==============================] - 0s 40ms/step\n",
            "1/1 [==============================] - 0s 39ms/step\n",
            "1/1 [==============================] - 0s 39ms/step\n",
            "1/1 [==============================] - 0s 40ms/step\n",
            "1/1 [==============================] - 0s 39ms/step\n",
            "1/1 [==============================] - 0s 39ms/step\n",
            "1/1 [==============================] - 0s 41ms/step\n",
            "1/1 [==============================] - 0s 40ms/step\n",
            "1/1 [==============================] - 0s 40ms/step\n",
            "1/1 [==============================] - 0s 39ms/step\n",
            "1/1 [==============================] - 0s 40ms/step\n",
            "1/1 [==============================] - 0s 39ms/step\n",
            "1/1 [==============================] - 0s 39ms/step\n",
            "1/1 [==============================] - 0s 39ms/step\n",
            "1/1 [==============================] - 0s 39ms/step\n",
            "1/1 [==============================] - 0s 39ms/step\n",
            "1/1 [==============================] - 0s 39ms/step\n",
            "1/1 [==============================] - 0s 40ms/step\n",
            "1/1 [==============================] - 0s 40ms/step\n",
            "1/1 [==============================] - 0s 39ms/step\n",
            "1/1 [==============================] - 0s 39ms/step\n",
            "1/1 [==============================] - 0s 39ms/step\n",
            "1/1 [==============================] - 0s 39ms/step\n",
            "1/1 [==============================] - 0s 39ms/step\n",
            "1/1 [==============================] - 0s 39ms/step\n",
            "1/1 [==============================] - 0s 39ms/step\n",
            "1/1 [==============================] - 0s 40ms/step\n",
            "1/1 [==============================] - 0s 39ms/step\n",
            "1/1 [==============================] - 0s 39ms/step\n",
            "1/1 [==============================] - 0s 41ms/step\n",
            "1/1 [==============================] - 0s 41ms/step\n",
            "1/1 [==============================] - 0s 40ms/step\n",
            "1/1 [==============================] - 0s 42ms/step\n",
            "1/1 [==============================] - 0s 42ms/step\n",
            "1/1 [==============================] - 0s 40ms/step\n",
            "1/1 [==============================] - 0s 40ms/step\n",
            "1/1 [==============================] - 0s 45ms/step\n",
            "1/1 [==============================] - 0s 39ms/step\n",
            "1/1 [==============================] - 0s 44ms/step\n",
            "1/1 [==============================] - 0s 43ms/step\n",
            "1/1 [==============================] - 0s 41ms/step\n",
            "1/1 [==============================] - 0s 40ms/step\n",
            "1/1 [==============================] - 0s 40ms/step\n",
            "1/1 [==============================] - 0s 40ms/step\n",
            "1/1 [==============================] - 0s 42ms/step\n",
            "1/1 [==============================] - 0s 41ms/step\n",
            "1/1 [==============================] - 0s 39ms/step\n",
            "1/1 [==============================] - 0s 39ms/step\n",
            "1/1 [==============================] - 0s 40ms/step\n",
            "1/1 [==============================] - 0s 40ms/step\n",
            "1/1 [==============================] - 0s 44ms/step\n",
            "1/1 [==============================] - 0s 42ms/step\n",
            "1/1 [==============================] - 0s 40ms/step\n",
            "1/1 [==============================] - 0s 40ms/step\n",
            "1/1 [==============================] - 0s 39ms/step\n",
            "1/1 [==============================] - 0s 39ms/step\n",
            "File: 138 T1 part 3 child audio_segment_0.csv, Prediction: [[4.1915695e-03 3.0806274e-03 9.9236405e-01 3.6375716e-04]]\n",
            "File: 138 T1 part 3 child audio_segment_1.csv, Prediction: [[4.7761444e-03 6.5700430e-03 9.8817796e-01 4.7593846e-04]]\n",
            "File: 138 T1 part 3 child audio_segment_2.csv, Prediction: [[1.2031954e-02 5.8909063e-03 9.8175037e-01 3.2676916e-04]]\n",
            "File: 138 T1 part 3 child audio_segment_3.csv, Prediction: [[1.3195041e-02 5.0786943e-03 9.8128319e-01 4.4308187e-04]]\n",
            "File: 138 T1 part 3 child audio_segment_4.csv, Prediction: [[6.2104426e-03 3.7816118e-03 9.8958731e-01 4.2062689e-04]]\n",
            "File: 138 T1 part 3 child audio_segment_5.csv, Prediction: [[1.0054219e-02 4.3638642e-03 9.8507673e-01 5.0516916e-04]]\n",
            "File: 138 T1 part 3 child audio_segment_7.csv, Prediction: [[0.01836469 0.01598823 0.9636471  0.002     ]]\n",
            "File: 138 T1 part 3 child audio_segment_6.csv, Prediction: [[0.00988867 0.0126277  0.97612745 0.00135623]]\n",
            "File: 138 T1 part 3 child audio_segment_8.csv, Prediction: [[3.0292075e-03 3.8966355e-03 9.9268264e-01 3.9156730e-04]]\n",
            "File: 138 T1 part 3 child audio_segment_9.csv, Prediction: [[8.207945e-03 4.258494e-03 9.868574e-01 6.761204e-04]]\n",
            "File: 138 T1 part 4 child audio_segment_0.csv, Prediction: [[7.1765576e-03 3.3974487e-03 9.8894405e-01 4.8192980e-04]]\n",
            "File: 138 T1 part 4 child audio_segment_1.csv, Prediction: [[5.8891485e-03 7.1233292e-03 9.8646414e-01 5.2337302e-04]]\n",
            "File: 138 T1 part 4 child audio_segment_2.csv, Prediction: [[0.01410147 0.00825183 0.9765598  0.00108689]]\n",
            "File: 138 T1 part 4 child audio_segment_3.csv, Prediction: [[1.3759841e-02 6.9125216e-03 9.7836840e-01 9.5930457e-04]]\n",
            "File: 138 T1 part 4 child audio_segment_4.csv, Prediction: [[1.6596779e-02 6.0841623e-03 9.7640681e-01 9.1217534e-04]]\n",
            "File: 138 T1 part 4 child audio_segment_5.csv, Prediction: [[0.02385584 0.00463612 0.970456   0.00105211]]\n",
            "File: 138 T1 part 4 child audio_segment_6.csv, Prediction: [[4.4012670e-03 2.7859092e-03 9.9250138e-01 3.1137816e-04]]\n",
            "File: 138 T1 part 4 child audio_segment_7.csv, Prediction: [[5.1532378e-03 2.5493086e-03 9.9201667e-01 2.8070371e-04]]\n",
            "File: 138 T1 part 4 child audio_segment_8.csv, Prediction: [[5.9386725e-03 2.8423402e-03 9.9086726e-01 3.5172250e-04]]\n",
            "File: 138 T1 part 4 child audio_segment_9.csv, Prediction: [[3.7462357e-03 3.9886707e-03 9.9193925e-01 3.2591654e-04]]\n",
            "File: 138 T2 part 2 child audio_segment_0.csv, Prediction: [[0.01370091 0.01192098 0.9732473  0.00113084]]\n",
            "File: 138 T2 part 2 child audio_segment_1.csv, Prediction: [[5.1220749e-03 2.3598624e-03 9.9223632e-01 2.8180800e-04]]\n",
            "File: 138 T2 part 2 child audio_segment_2.csv, Prediction: [[5.5931471e-03 3.4796668e-03 9.9053347e-01 3.9371042e-04]]\n",
            "File: 138 T2 part 2 child audio_segment_3.csv, Prediction: [[5.5006030e-03 3.1733534e-03 9.9089265e-01 4.3338482e-04]]\n",
            "File: 138 T2 part 2 child audio_segment_4.csv, Prediction: [[0.01161454 0.01794741 0.96938735 0.00105067]]\n",
            "File: 138 T2 part 2 child audio_segment_5.csv, Prediction: [[0.00822154 0.01122517 0.9793839  0.00116943]]\n",
            "File: 138 T2 part 2 child audio_segment_6.csv, Prediction: [[9.0135802e-03 3.7462451e-03 9.8665363e-01 5.8658695e-04]]\n",
            "File: 138 T2 part 2 child audio_segment_7.csv, Prediction: [[7.9098009e-03 3.6805146e-03 9.8784107e-01 5.6861964e-04]]\n",
            "File: 138 T2 part 2 child audio_segment_8.csv, Prediction: [[4.6167090e-03 2.4665713e-03 9.9259889e-01 3.1786613e-04]]\n",
            "File: 138 T2 part 2 child audio_segment_9.csv, Prediction: [[7.2811125e-03 3.3740778e-03 9.8896295e-01 3.8191510e-04]]\n",
            "File: 138 T2 part 4 child audio_segment_0.csv, Prediction: [[3.5900043e-03 3.0248342e-03 9.9311924e-01 2.6593523e-04]]\n",
            "File: 138 T2 part 4 child audio_segment_1.csv, Prediction: [[7.9878904e-03 4.1934182e-03 9.8733574e-01 4.8286523e-04]]\n",
            "File: 138 T2 part 4 child audio_segment_2.csv, Prediction: [[1.3770481e-02 7.7086627e-03 9.7759104e-01 9.2985062e-04]]\n",
            "File: 138 T2 part 4 child audio_segment_3.csv, Prediction: [[0.00792349 0.01503148 0.9748526  0.00219233]]\n",
            "File: 138 T2 part 4 child audio_segment_4.csv, Prediction: [[7.9099508e-03 9.9975597e-03 9.8123187e-01 8.6069526e-04]]\n",
            "File: 138 T2 part 4 child audio_segment_5.csv, Prediction: [[2.0455683e-02 9.4366595e-03 9.6946377e-01 6.4400642e-04]]\n",
            "File: 138 T2 part 4 child audio_segment_6.csv, Prediction: [[1.8366253e-02 7.2810291e-03 9.7351068e-01 8.4208668e-04]]\n",
            "File: 138 T2 part 4 child audio_segment_7.csv, Prediction: [[3.1394269e-03 4.3836157e-03 9.9218267e-01 2.9423149e-04]]\n",
            "File: 138 T2 part 4 child audio_segment_8.csv, Prediction: [[0.02587011 0.014715   0.9572084  0.00220655]]\n",
            "File: 138 T2 part 4 child audio_segment_9.csv, Prediction: [[4.9138851e-03 7.6675327e-03 9.8691571e-01 5.0279894e-04]]\n",
            "File: 262 T2 part 1 child audio_segment_0.csv, Prediction: [[2.6959931e-03 2.2639905e-03 9.9483997e-01 2.0011576e-04]]\n",
            "File: 262 T2 part 1 child audio_segment_1.csv, Prediction: [[7.6884120e-03 3.0079612e-03 9.8899651e-01 3.0715895e-04]]\n",
            "File: 262 T2 part 1 child audio_segment_2.csv, Prediction: [[0.03889891 0.00580854 0.95426005 0.00103249]]\n",
            "File: 262 T2 part 1 child audio_segment_3.csv, Prediction: [[5.9655528e-03 3.0891763e-03 9.9060035e-01 3.4493010e-04]]\n",
            "File: 262 T2 part 1 child audio_segment_4.csv, Prediction: [[4.7616083e-03 3.1670302e-03 9.9162674e-01 4.4453915e-04]]\n",
            "File: 262 T2 part 1 child audio_segment_5.csv, Prediction: [[7.0446962e-03 3.6794040e-03 9.8886478e-01 4.1115633e-04]]\n",
            "File: 262 T2 part 1 child audio_segment_6.csv, Prediction: [[4.0097008e-03 3.2268804e-03 9.9244702e-01 3.1638681e-04]]\n",
            "File: 262 T2 part 1 child audio_segment_7.csv, Prediction: [[6.4637791e-03 3.7292473e-03 9.8945308e-01 3.5390040e-04]]\n",
            "File: 262 T2 part 1 child audio_segment_8.csv, Prediction: [[8.3791055e-03 6.9769397e-03 9.8383498e-01 8.0905901e-04]]\n",
            "File: 262 T2 part 1 child audio_segment_9.csv, Prediction: [[5.6746895e-03 3.4586845e-03 9.9048048e-01 3.8613213e-04]]\n",
            "File: 287 T1 part2 child audio_segment_0.csv, Prediction: [[1.6870546e-03 2.1767151e-03 9.9597907e-01 1.5706367e-04]]\n",
            "File: 287 T1 part2 child audio_segment_1.csv, Prediction: [[3.5055559e-02 5.9568272e-03 9.5803213e-01 9.5546944e-04]]\n",
            "File: 287 T1 part2 child audio_segment_2.csv, Prediction: [[5.2739703e-03 2.8423667e-03 9.9150324e-01 3.8043194e-04]]\n",
            "File: 287 T1 part2 child audio_segment_3.csv, Prediction: [[4.5173382e-03 2.5769805e-03 9.9261343e-01 2.9225406e-04]]\n",
            "File: 287 T1 part2 child audio_segment_4.csv, Prediction: [[4.6472973e-03 2.1148052e-03 9.9297661e-01 2.6128785e-04]]\n",
            "File: 287 T1 part2 child audio_segment_5.csv, Prediction: [[8.9937523e-03 4.0103202e-03 9.8654860e-01 4.4736837e-04]]\n",
            "File: 287 T1 part2 child audio_segment_6.csv, Prediction: [[4.3652174e-03 3.6543540e-03 9.9156523e-01 4.1522391e-04]]\n",
            "File: 287 T1 part2 child audio_segment_7.csv, Prediction: [[5.7712188e-03 3.1829870e-03 9.9060297e-01 4.4288792e-04]]\n",
            "File: 287 T1 part2 child audio_segment_8.csv, Prediction: [[1.55279385e-02 4.57767956e-03 9.78965223e-01 9.29122732e-04]]\n",
            "File: 287 T1 part2 child audio_segment_9.csv, Prediction: [[9.0240873e-03 5.1296116e-03 9.8515409e-01 6.9217139e-04]]\n",
            "File: 522 T1 part 1 child audio_segment_0.csv, Prediction: [[5.7529444e-03 4.0389025e-03 9.8977906e-01 4.2914320e-04]]\n",
            "File: 522 T1 part 1 child audio_segment_1.csv, Prediction: [[7.3085791e-03 3.9448114e-03 9.8819846e-01 5.4811308e-04]]\n",
            "File: 522 T1 part 1 child audio_segment_2.csv, Prediction: [[0.06006834 0.01883119 0.9193011  0.00179934]]\n",
            "File: 522 T1 part 1 child audio_segment_3.csv, Prediction: [[1.1073221e-03 3.2007722e-03 9.9554884e-01 1.4309921e-04]]\n",
            "File: 522 T1 part 1 child audio_segment_4.csv, Prediction: [[0.11097198 0.00528504 0.8827443  0.0009986 ]]\n",
            "File: 522 T1 part 1 child audio_segment_5.csv, Prediction: [[5.2223187e-03 2.9951565e-03 9.9146056e-01 3.2190909e-04]]\n",
            "File: 522 T1 part 1 child audio_segment_6.csv, Prediction: [[4.6327407e-03 3.0129738e-03 9.9201912e-01 3.3515689e-04]]\n",
            "File: 522 T1 part 1 child audio_segment_7.csv, Prediction: [[7.9732919e-03 3.3570363e-03 9.8817295e-01 4.9679191e-04]]\n",
            "File: 522 T1 part 1 child audio_segment_8.csv, Prediction: [[3.5634218e-03 2.8340179e-03 9.9329388e-01 3.0867162e-04]]\n",
            "File: 522 T1 part 1 child audio_segment_9.csv, Prediction: [[3.7309595e-03 2.4130584e-03 9.9356478e-01 2.9108286e-04]]\n",
            "File: 522 T1 part 2 child audio_segment_0.csv, Prediction: [[3.8487990e-03 3.3159044e-03 9.9250811e-01 3.2717004e-04]]\n",
            "File: 522 T1 part 2 child audio_segment_1.csv, Prediction: [[6.6349013e-03 3.5073580e-03 9.8945111e-01 4.0665001e-04]]\n",
            "File: 522 T1 part 2 child audio_segment_2.csv, Prediction: [[4.4231024e-03 2.5626896e-03 9.9273723e-01 2.7689559e-04]]\n",
            "File: 522 T1 part 2 child audio_segment_3.csv, Prediction: [[1.2063805e-02 4.2291917e-03 9.8322290e-01 4.8408020e-04]]\n",
            "File: 522 T1 part 2 child audio_segment_4.csv, Prediction: [[1.3211831e-02 5.0768107e-03 9.8084533e-01 8.6603506e-04]]\n",
            "File: 522 T1 part 2 child audio_segment_5.csv, Prediction: [[5.9835534e-03 3.9154692e-03 9.8969978e-01 4.0121001e-04]]\n",
            "File: 522 T1 part 2 child audio_segment_6.csv, Prediction: [[5.6856838e-03 3.7950783e-03 9.9010122e-01 4.1789497e-04]]\n",
            "File: 522 T1 part 2 child audio_segment_7.csv, Prediction: [[7.8366017e-03 3.4027097e-03 9.8828131e-01 4.7933962e-04]]\n",
            "File: 522 T1 part 2 child audio_segment_8.csv, Prediction: [[4.9522235e-03 2.5827130e-03 9.9212754e-01 3.3752105e-04]]\n",
            "File: 522 T1 part 2 child audio_segment_9.csv, Prediction: [[5.9427791e-03 2.8710612e-03 9.9077648e-01 4.0978161e-04]]\n",
            "File: 522 T2 part 2 child audio_segment_0.csv, Prediction: [[2.9266158e-03 2.7593025e-03 9.9410278e-01 2.1127622e-04]]\n",
            "File: 522 T2 part 2 child audio_segment_1.csv, Prediction: [[5.8391667e-03 3.1145934e-03 9.9067140e-01 3.7482238e-04]]\n",
            "File: 522 T2 part 2 child audio_segment_2.csv, Prediction: [[7.6157171e-03 3.6135428e-03 9.8819166e-01 5.7906349e-04]]\n",
            "File: 522 T2 part 2 child audio_segment_3.csv, Prediction: [[2.8714309e-03 2.6560791e-03 9.9421811e-01 2.5430167e-04]]\n",
            "File: 522 T2 part 2 child audio_segment_4.csv, Prediction: [[5.1542157e-03 2.8136016e-03 9.9168593e-01 3.4621489e-04]]\n",
            "File: 522 T2 part 2 child audio_segment_5.csv, Prediction: [[7.0882528e-03 5.1594405e-03 9.8714823e-01 6.0400990e-04]]\n",
            "File: 522 T2 part 2 child audio_segment_6.csv, Prediction: [[1.7191511e-02 4.6822214e-03 9.7734344e-01 7.8277779e-04]]\n",
            "File: 522 T2 part 2 child audio_segment_7.csv, Prediction: [[4.8547750e-03 5.1200949e-03 9.8954940e-01 4.7575228e-04]]\n",
            "File: 522 T2 part 2 child audio_segment_8.csv, Prediction: [[5.9545171e-03 4.1943355e-03 9.8938143e-01 4.6977465e-04]]\n",
            "File: 522 T2 part 2 child audio_segment_9.csv, Prediction: [[7.4586798e-03 3.3983416e-03 9.8873013e-01 4.1289633e-04]]\n",
            "File: 522 T2 part 4 child audio_segment_0.csv, Prediction: [[2.9863445e-03 2.3640988e-03 9.9440259e-01 2.4708401e-04]]\n",
            "File: 522 T2 part 4 child audio_segment_1.csv, Prediction: [[1.2650276e-02 1.1155720e-02 9.7533530e-01 8.5872848e-04]]\n",
            "File: 522 T2 part 4 child audio_segment_2.csv, Prediction: [[5.6555807e-03 1.2738244e-02 9.8084509e-01 7.6101581e-04]]\n",
            "File: 522 T2 part 4 child audio_segment_3.csv, Prediction: [[2.2670247e-02 7.0873033e-03 9.6927959e-01 9.6284464e-04]]\n",
            "File: 522 T2 part 4 child audio_segment_4.csv, Prediction: [[8.6879637e-03 3.9960691e-03 9.8677826e-01 5.3766702e-04]]\n",
            "File: 522 T2 part 4 child audio_segment_5.csv, Prediction: [[8.7761907e-03 4.4395686e-03 9.8612785e-01 6.5639766e-04]]\n",
            "File: 522 T2 part 4 child audio_segment_6.csv, Prediction: [[4.8983428e-03 3.6013313e-03 9.9112165e-01 3.7872742e-04]]\n",
            "File: 522 T2 part 4 child audio_segment_7.csv, Prediction: [[5.0879000e-03 3.2913815e-03 9.9126351e-01 3.5718302e-04]]\n",
            "File: 522 T2 part 4 child audio_segment_8.csv, Prediction: [[1.0037161e-02 4.0717474e-03 9.8535734e-01 5.3375104e-04]]\n",
            "File: 522 T2 part 4 child audio_segment_9.csv, Prediction: [[1.2146532e-02 4.9063764e-03 9.8237741e-01 5.6976516e-04]]\n",
            "File: 522 T2 part 5 child audio_segment_0.csv, Prediction: [[3.4304720e-03 3.2516266e-03 9.9298143e-01 3.3638577e-04]]\n",
            "File: 522 T2 part 5 child audio_segment_1.csv, Prediction: [[2.9240139e-03 3.1201220e-03 9.9370748e-01 2.4843120e-04]]\n",
            "File: 522 T2 part 5 child audio_segment_2.csv, Prediction: [[6.4027095e-03 3.8625891e-03 9.8941338e-01 3.2132163e-04]]\n",
            "File: 522 T2 part 5 child audio_segment_3.csv, Prediction: [[5.4435614e-03 3.0302533e-03 9.9116898e-01 3.5718729e-04]]\n",
            "File: 522 T2 part 5 child audio_segment_4.csv, Prediction: [[1.3706727e-02 3.8844221e-03 9.8184317e-01 5.6565483e-04]]\n",
            "File: 522 T2 part 5 child audio_segment_5.csv, Prediction: [[5.0629000e-03 3.2806480e-03 9.9132299e-01 3.3345504e-04]]\n",
            "File: 522 T2 part 5 child audio_segment_6.csv, Prediction: [[7.4289623e-03 4.0877555e-03 9.8791379e-01 5.6951138e-04]]\n",
            "File: 522 T2 part 5 child audio_segment_7.csv, Prediction: [[2.0219339e-02 4.7645671e-03 9.7442651e-01 5.8946112e-04]]\n",
            "File: 522 T2 part 5 child audio_segment_8.csv, Prediction: [[4.8860610e-03 3.5033517e-03 9.9126023e-01 3.5040916e-04]]\n",
            "File: 522 T2 part 5 child audio_segment_9.csv, Prediction: [[9.0262331e-03 4.3963445e-03 9.8604220e-01 5.3520681e-04]]\n",
            "File: 531 T1 part 1 child audio_segment_0.csv, Prediction: [[9.4009200e-03 5.3210487e-03 9.8476797e-01 5.1009894e-04]]\n",
            "File: 531 T1 part 1 child audio_segment_1.csv, Prediction: [[6.9792001e-03 3.9657517e-03 9.8860174e-01 4.5331617e-04]]\n",
            "File: 531 T1 part 1 child audio_segment_2.csv, Prediction: [[4.8328065e-03 3.0259343e-03 9.9180156e-01 3.3964586e-04]]\n",
            "File: 531 T1 part 1 child audio_segment_3.csv, Prediction: [[6.1564175e-03 2.9380082e-03 9.9049944e-01 4.0613912e-04]]\n",
            "File: 531 T1 part 1 child audio_segment_4.csv, Prediction: [[4.4650296e-03 3.9473050e-03 9.9119568e-01 3.9195179e-04]]\n",
            "File: 531 T1 part 1 child audio_segment_5.csv, Prediction: [[2.9923734e-03 2.4463974e-03 9.9434644e-01 2.1476898e-04]]\n",
            "File: 531 T1 part 1 child audio_segment_6.csv, Prediction: [[1.1509813e-02 3.9976961e-03 9.8383474e-01 6.5769086e-04]]\n",
            "File: 531 T1 part 1 child audio_segment_7.csv, Prediction: [[6.8812557e-03 3.6052794e-03 9.8904431e-01 4.6907968e-04]]\n",
            "File: 531 T1 part 1 child audio_segment_8.csv, Prediction: [[5.8713434e-03 3.7070399e-03 9.8986709e-01 5.5444043e-04]]\n",
            "File: 531 T1 part 1 child audio_segment_9.csv, Prediction: [[0.02828191 0.00554041 0.965168   0.00100975]]\n",
            "File: 531 T1 part 2 child audio_segment_0.csv, Prediction: [[7.2713206e-03 3.0734022e-03 9.8919666e-01 4.5860099e-04]]\n",
            "File: 531 T1 part 2 child audio_segment_1.csv, Prediction: [[5.4611508e-03 2.7259286e-03 9.9144149e-01 3.7152329e-04]]\n",
            "File: 531 T1 part 2 child audio_segment_2.csv, Prediction: [[5.0009736e-03 2.9157987e-03 9.9174178e-01 3.4141733e-04]]\n",
            "File: 531 T1 part 2 child audio_segment_3.csv, Prediction: [[5.2877860e-03 3.0668012e-03 9.9129492e-01 3.5055378e-04]]\n",
            "File: 531 T1 part 2 child audio_segment_4.csv, Prediction: [[5.7118656e-03 3.7293867e-03 9.9008572e-01 4.7307642e-04]]\n",
            "File: 531 T1 part 2 child audio_segment_5.csv, Prediction: [[4.7574141e-03 3.7993868e-03 9.9105471e-01 3.8847543e-04]]\n",
            "File: 531 T1 part 2 child audio_segment_6.csv, Prediction: [[5.1826392e-03 2.5817708e-03 9.9193007e-01 3.0560207e-04]]\n",
            "File: 531 T1 part 2 child audio_segment_7.csv, Prediction: [[4.9077058e-03 3.3602510e-03 9.9132758e-01 4.0452386e-04]]\n",
            "File: 531 T1 part 2 child audio_segment_8.csv, Prediction: [[5.9147933e-03 3.5884529e-03 9.9010426e-01 3.9239082e-04]]\n",
            "File: 531 T1 part 2 child audio_segment_9.csv, Prediction: [[3.8604336e-03 2.1708924e-03 9.9372274e-01 2.4589428e-04]]\n",
            "File: 531 T1 part 4 child audio_segment_0.csv, Prediction: [[6.6008745e-03 3.6288942e-03 9.8935449e-01 4.1574499e-04]]\n",
            "File: 531 T1 part 4 child audio_segment_1.csv, Prediction: [[3.4475194e-03 2.5446804e-03 9.9374819e-01 2.5963387e-04]]\n",
            "File: 531 T1 part 4 child audio_segment_2.csv, Prediction: [[5.8336151e-03 3.4390243e-03 9.9028462e-01 4.4266562e-04]]\n",
            "File: 531 T1 part 4 child audio_segment_3.csv, Prediction: [[7.1968003e-03 3.1536783e-03 9.8923469e-01 4.1481745e-04]]\n",
            "File: 531 T1 part 4 child audio_segment_4.csv, Prediction: [[4.8652845e-03 2.9996408e-03 9.9175161e-01 3.8344698e-04]]\n",
            "File: 531 T1 part 4 child audio_segment_5.csv, Prediction: [[7.2726593e-03 3.3220761e-03 9.8892224e-01 4.8302070e-04]]\n",
            "File: 531 T1 part 4 child audio_segment_6.csv, Prediction: [[4.1743848e-03 3.2932784e-03 9.9215513e-01 3.7722333e-04]]\n",
            "File: 531 T1 part 4 child audio_segment_7.csv, Prediction: [[6.0767755e-03 3.3380282e-03 9.9025542e-01 3.2983653e-04]]\n",
            "File: 531 T1 part 4 child audio_segment_8.csv, Prediction: [[4.7489414e-03 2.8546131e-03 9.9207401e-01 3.2238179e-04]]\n",
            "File: 531 T1 part 4 child audio_segment_9.csv, Prediction: [[1.1088378e-02 3.7789044e-03 9.8454893e-01 5.8375247e-04]]\n",
            "File: 531 T1 part 5 child audio_segment_0.csv, Prediction: [[0.0385547  0.00772181 0.95216995 0.00155345]]\n",
            "File: 531 T1 part 5 child audio_segment_1.csv, Prediction: [[3.1330769e-03 4.8480602e-03 9.9156827e-01 4.5060471e-04]]\n",
            "File: 531 T1 part 5 child audio_segment_2.csv, Prediction: [[1.0534174e-02 6.3249385e-03 9.8239040e-01 7.5042888e-04]]\n",
            "File: 531 T1 part 5 child audio_segment_3.csv, Prediction: [[1.1667712e-02 5.0478331e-03 9.8274899e-01 5.3535029e-04]]\n",
            "File: 531 T1 part 5 child audio_segment_4.csv, Prediction: [[2.6690299e-03 3.7180132e-03 9.9339193e-01 2.2091549e-04]]\n",
            "File: 531 T1 part 5 child audio_segment_5.csv, Prediction: [[6.5604048e-03 3.9459527e-03 9.8921329e-01 2.8032076e-04]]\n",
            "File: 531 T1 part 5 child audio_segment_6.csv, Prediction: [[5.0310008e-03 3.4067305e-03 9.9120480e-01 3.5749227e-04]]\n",
            "File: 531 T1 part 5 child audio_segment_7.csv, Prediction: [[4.205837e-03 3.669682e-03 9.917337e-01 3.908309e-04]]\n",
            "File: 531 T1 part 5 child audio_segment_8.csv, Prediction: [[6.5097287e-03 3.5919894e-03 9.8947877e-01 4.1950759e-04]]\n",
            "File: 531 T1 part 5 child audio_segment_9.csv, Prediction: [[0.01305361 0.00667014 0.979221   0.00105528]]\n",
            "File: 531 T1 part 6 child audio_segment_0.csv, Prediction: [[1.03950435e-02 5.85291954e-03 9.82779384e-01 9.72616603e-04]]\n",
            "File: 531 T1 part 6 child audio_segment_1.csv, Prediction: [[3.5548415e-03 3.8410691e-03 9.9215889e-01 4.4520845e-04]]\n",
            "File: 531 T1 part 6 child audio_segment_2.csv, Prediction: [[8.5499668e-03 3.1942632e-03 9.8780882e-01 4.4684400e-04]]\n",
            "File: 531 T1 part 6 child audio_segment_3.csv, Prediction: [[1.0101920e-02 3.8010960e-03 9.8557776e-01 5.1923242e-04]]\n",
            "File: 531 T1 part 6 child audio_segment_4.csv, Prediction: [[5.2874410e-03 3.0864731e-03 9.9126107e-01 3.6497990e-04]]\n",
            "File: 531 T1 part 6 child audio_segment_5.csv, Prediction: [[4.0543186e-03 2.9300621e-03 9.9268842e-01 3.2718110e-04]]\n",
            "File: 531 T1 part 6 child audio_segment_6.csv, Prediction: [[4.8359293e-03 3.0809150e-03 9.9171162e-01 3.7153644e-04]]\n",
            "File: 531 T1 part 6 child audio_segment_7.csv, Prediction: [[4.9027395e-03 2.5706419e-03 9.9215978e-01 3.6671927e-04]]\n",
            "File: 531 T1 part 6 child audio_segment_8.csv, Prediction: [[5.0834310e-03 2.3986965e-03 9.9221838e-01 2.9943575e-04]]\n",
            "File: 531 T1 part 6 child audio_segment_9.csv, Prediction: [[4.3583629e-03 2.3936466e-03 9.9296063e-01 2.8737774e-04]]\n",
            "File: 531 T2 part 1 child audio_segment_0.csv, Prediction: [[4.1473540e-03 2.1068372e-03 9.9348927e-01 2.5651333e-04]]\n",
            "File: 531 T2 part 1 child audio_segment_1.csv, Prediction: [[4.7838236e-03 2.3746639e-03 9.9255800e-01 2.8352864e-04]]\n",
            "File: 531 T2 part 1 child audio_segment_2.csv, Prediction: [[4.4598882e-03 2.1641573e-03 9.9312097e-01 2.5500625e-04]]\n",
            "File: 531 T2 part 1 child audio_segment_3.csv, Prediction: [[4.8740441e-03 2.4651752e-03 9.9237156e-01 2.8930197e-04]]\n",
            "File: 531 T2 part 1 child audio_segment_4.csv, Prediction: [[6.0243839e-03 2.7662260e-03 9.9083298e-01 3.7641916e-04]]\n",
            "File: 531 T2 part 1 child audio_segment_5.csv, Prediction: [[6.4151026e-03 3.0977565e-03 9.9006432e-01 4.2291675e-04]]\n",
            "File: 531 T2 part 1 child audio_segment_6.csv, Prediction: [[4.6136756e-03 2.4458654e-03 9.9264330e-01 2.9711370e-04]]\n",
            "File: 531 T2 part 1 child audio_segment_7.csv, Prediction: [[4.9919398e-03 2.4852767e-03 9.9223244e-01 2.9038277e-04]]\n",
            "File: 531 T2 part 1 child audio_segment_8.csv, Prediction: [[4.6389862e-03 2.3674052e-03 9.9270260e-01 2.9097011e-04]]\n",
            "File: 531 T2 part 1 child audio_segment_9.csv, Prediction: [[4.6663773e-03 2.3865069e-03 9.9265927e-01 2.8787606e-04]]\n",
            "File: 531 T2 part 3 child audio_segment_0.csv, Prediction: [[3.6864683e-03 2.2160974e-03 9.9384415e-01 2.5325915e-04]]\n",
            "File: 531 T2 part 3 child audio_segment_1.csv, Prediction: [[4.3461900e-03 3.1249223e-03 9.9215734e-01 3.7148796e-04]]\n",
            "File: 531 T2 part 3 child audio_segment_2.csv, Prediction: [[3.8626040e-03 3.9074365e-03 9.9186265e-01 3.6729465e-04]]\n",
            "File: 531 T2 part 3 child audio_segment_3.csv, Prediction: [[7.051853e-03 2.636690e-03 9.898811e-01 4.303293e-04]]\n",
            "File: 531 T2 part 3 child audio_segment_4.csv, Prediction: [[3.6069611e-03 3.2299766e-03 9.9281776e-01 3.4531389e-04]]\n",
            "File: 531 T2 part 3 child audio_segment_5.csv, Prediction: [[1.2663096e-02 4.0387763e-03 9.8267579e-01 6.2239415e-04]]\n",
            "File: 531 T2 part 3 child audio_segment_6.csv, Prediction: [[7.0128758e-03 3.4750139e-03 9.8904574e-01 4.6644706e-04]]\n",
            "File: 531 T2 part 3 child audio_segment_7.csv, Prediction: [[8.354599e-03 4.150220e-03 9.869801e-01 5.151435e-04]]\n",
            "File: 531 T2 part 3 child audio_segment_8.csv, Prediction: [[7.0773298e-03 3.2814920e-03 9.8920256e-01 4.3856452e-04]]\n",
            "File: 531 T2 part 3 child audio_segment_9.csv, Prediction: [[5.8344607e-03 2.9123297e-03 9.9088973e-01 3.6341630e-04]]\n",
            "File: 531 T2 part 4 child audio_segment_0.csv, Prediction: [[1.5325270e-03 2.4676279e-03 9.9584830e-01 1.5143713e-04]]\n",
            "File: 531 T2 part 4 child audio_segment_1.csv, Prediction: [[2.0778138e-02 4.7334554e-03 9.7386229e-01 6.2612159e-04]]\n",
            "File: 531 T2 part 4 child audio_segment_2.csv, Prediction: [[6.696612e-03 4.256083e-03 9.885028e-01 5.445644e-04]]\n",
            "File: 531 T2 part 4 child audio_segment_3.csv, Prediction: [[7.4132853e-03 4.3308767e-03 9.8776907e-01 4.8673368e-04]]\n",
            "File: 531 T2 part 4 child audio_segment_4.csv, Prediction: [[7.0541413e-03 3.2813861e-03 9.8925132e-01 4.1311438e-04]]\n",
            "File: 531 T2 part 4 child audio_segment_5.csv, Prediction: [[6.0769087e-03 3.1478864e-03 9.9038994e-01 3.8529388e-04]]\n",
            "File: 531 T2 part 4 child audio_segment_6.csv, Prediction: [[5.3385668e-03 3.1116693e-03 9.9118280e-01 3.6703309e-04]]\n",
            "File: 531 T2 part 4 child audio_segment_7.csv, Prediction: [[5.9656231e-03 3.1251579e-03 9.9051380e-01 3.9547027e-04]]\n",
            "File: 531 T2 part 4 child audio_segment_8.csv, Prediction: [[4.9804193e-03 3.4787501e-03 9.9116021e-01 3.8058113e-04]]\n",
            "File: 531 T2 part 4 child audio_segment_9.csv, Prediction: [[9.2162676e-03 3.8125573e-03 9.8647344e-01 4.9779593e-04]]\n",
            "File: 531 T2 part 5 child audio_segment_0.csv, Prediction: [[3.9481926e-03 2.1629152e-03 9.9363917e-01 2.4973674e-04]]\n",
            "File: 531 T2 part 5 child audio_segment_1.csv, Prediction: [[6.7517431e-03 3.1221365e-03 9.8973125e-01 3.9484838e-04]]\n",
            "File: 531 T2 part 5 child audio_segment_2.csv, Prediction: [[7.4359505e-03 3.3332610e-03 9.8877513e-01 4.5570661e-04]]\n",
            "File: 531 T2 part 5 child audio_segment_3.csv, Prediction: [[4.7605508e-03 2.7681733e-03 9.9215710e-01 3.1413417e-04]]\n",
            "File: 531 T2 part 5 child audio_segment_4.csv, Prediction: [[5.1820236e-03 2.8366782e-03 9.9166191e-01 3.1941340e-04]]\n",
            "File: 531 T2 part 5 child audio_segment_5.csv, Prediction: [[4.9349205e-03 2.4355338e-03 9.9231756e-01 3.1194193e-04]]\n",
            "File: 531 T2 part 5 child audio_segment_6.csv, Prediction: [[6.3353544e-03 2.9178839e-03 9.9035913e-01 3.8768467e-04]]\n",
            "File: 531 T2 part 5 child audio_segment_7.csv, Prediction: [[3.4537790e-03 2.0979526e-03 9.9420232e-01 2.4588278e-04]]\n",
            "File: 531 T2 part 5 child audio_segment_8.csv, Prediction: [[4.1336254e-03 2.5376643e-03 9.9304223e-01 2.8643981e-04]]\n",
            "File: 531 T2 part 5 child audio_segment_9.csv, Prediction: [[4.1144742e-03 2.8298248e-03 9.9276876e-01 2.8700754e-04]]\n"
          ]
        }
      ]
    },
    {
      "cell_type": "code",
      "source": [],
      "metadata": {
        "id": "-zXscVcNWRST"
      },
      "id": "-zXscVcNWRST",
      "execution_count": null,
      "outputs": []
    }
  ],
  "metadata": {
    "kernelspec": {
      "display_name": "Python 3",
      "name": "python3"
    },
    "language_info": {
      "codemirror_mode": {
        "name": "ipython",
        "version": 3
      },
      "file_extension": ".py",
      "mimetype": "text/x-python",
      "name": "python",
      "nbconvert_exporter": "python",
      "pygments_lexer": "ipython3",
      "version": "3.12.1"
    },
    "colab": {
      "provenance": [],
      "machine_shape": "hm",
      "gpuType": "T4"
    },
    "accelerator": "GPU"
  },
  "nbformat": 4,
  "nbformat_minor": 5
}